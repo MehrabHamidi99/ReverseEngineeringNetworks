{
  "cells": [
    {
      "cell_type": "markdown",
      "metadata": {
        "colab_type": "text",
        "id": "view-in-github"
      },
      "source": [
        "<a href=\"https://colab.research.google.com/github/MehrabHamidi99/ReverseEngineeringNetworks/blob/master/ReverseEngineeringDLNet.ipynb\" target=\"_parent\"><img src=\"https://colab.research.google.com/assets/colab-badge.svg\" alt=\"Open In Colab\"/></a>"
      ]
    },
    {
      "cell_type": "code",
      "execution_count": 1,
      "metadata": {
        "id": "JlIi2OrjTBwD"
      },
      "outputs": [],
      "source": [
        "import pandas as pd\n",
        "import numpy as np\n",
        "\n",
        "import torch\n",
        "import torch.nn as nn\n",
        "import torch.vmap\n",
        "\n",
        "from sklearn.linear_model import LinearRegression, RANSACRegressor\n",
        "\n",
        "import matplotlib.pyplot as plt\n",
        "import time"
      ]
    },
    {
      "cell_type": "code",
      "execution_count": 2,
      "metadata": {
        "id": "RPpxzrFCTIoj"
      },
      "outputs": [],
      "source": [
        "from numpy.core.memmap import dtype\n",
        "class MLP_ReLU(nn.Module):\n",
        "\n",
        "  Bias_std = 1\n",
        "\n",
        "  def __init__(self, n_in, layer_list):\n",
        "    super(MLP_ReLU, self).__init__()\n",
        "\n",
        "    self.input_dim = n_in\n",
        "\n",
        "    self.first_layer = nn.Sequential(nn.Linear(n_in, layer_list[0]), nn.ReLU())\n",
        "\n",
        "    self.hidden_layers = nn.Sequential()\n",
        "    for i in range(1, len(layer_list)):\n",
        "      self.hidden_layers.append(nn.Linear(layer_list[i - 1], layer_list[i]))\n",
        "      if i != len(layer_list) - 1:\n",
        "        self.hidden_layers.append(nn.ReLU())\n",
        "\n",
        "    self.apply(self.init_weights)\n",
        "\n",
        "    self.output_dim = layer_list[-1]\n",
        "\n",
        "    # self.last_layer = nn.Sequential(nn.Linear(layer_list[-1], n_out), nn.ReLU())\n",
        "  \n",
        "  def forward(self, x):\n",
        "    first_layer_result = self.first_layer(x)\n",
        "    output = self.hidden_layers(first_layer_result)\n",
        "    return output\n",
        "\n",
        "  def initialize_weights(self, layer):\n",
        "    # Using He-normal and standard normal to initialize weights and biases\n",
        "    if 'linear' in str(layer.__class__).lower():\n",
        "      nn.init.kaiming_normal_(layer.weight)\n",
        "      layer.weight = nn.Parameter(torch.tensor(layer.weight, dtype=torch.float64))\n",
        "      nn.init.normal_(layer.bias)\n",
        "      layer.bias = nn.Parameter(torch.tensor(layer.bias, dtype=torch.float64))\n",
        "\n",
        "  def init_weights(self, m):\n",
        "    if isinstance(m, nn.Linear):\n",
        "        torch.nn.init.xavier_uniform(m.weight)\n",
        "        m.bias.data.fill_(0.01)\n",
        "\n",
        "  def get_all_parameters(self):\n",
        "\n",
        "    weights = []\n",
        "    biases = []\n",
        "    for k, v in self.state_dict().items():\n",
        "      if 'weight' in k:\n",
        "        weights.append(v.T)\n",
        "      if 'bias' in k:\n",
        "        biases.append(v)\n",
        "\n",
        "    return weights, biases"
      ]
    },
    {
      "cell_type": "code",
      "execution_count": 3,
      "metadata": {
        "colab": {
          "base_uri": "https://localhost:8080/"
        },
        "id": "btu2dg_5XL8i",
        "outputId": "bdf894fd-68cf-4209-e14f-5c0d0c2c17ac"
      },
      "outputs": [
        {
          "name": "stderr",
          "output_type": "stream",
          "text": [
            "<ipython-input-2-9b8dfdca9923>:40: UserWarning: nn.init.xavier_uniform is now deprecated in favor of nn.init.xavier_uniform_.\n",
            "  torch.nn.init.xavier_uniform(m.weight)\n"
          ]
        }
      ],
      "source": [
        "INPUT_DIM = 1\n",
        "\n",
        "simple_network = MLP_ReLU(INPUT_DIM, [4, 1])"
      ]
    },
    {
      "cell_type": "code",
      "execution_count": 4,
      "metadata": {
        "colab": {
          "base_uri": "https://localhost:8080/"
        },
        "id": "jHBOE9dcIU-q",
        "outputId": "8ffd370c-1a2a-4d4d-ad0c-98ba9f4c0941"
      },
      "outputs": [
        {
          "data": {
            "text/plain": [
              "1"
            ]
          },
          "execution_count": 4,
          "metadata": {},
          "output_type": "execute_result"
        }
      ],
      "source": [
        "simple_network.output_dim"
      ]
    },
    {
      "cell_type": "code",
      "execution_count": 5,
      "metadata": {
        "colab": {
          "base_uri": "https://localhost:8080/"
        },
        "id": "3ObCs2_GYGsk",
        "outputId": "bca22d74-4ad5-4bac-985a-7b5aa2dbe650"
      },
      "outputs": [
        {
          "data": {
            "text/plain": [
              "([tensor([[ 0.1819,  0.0137,  0.9721, -0.5668]]),\n",
              "  tensor([[-0.5284],\n",
              "          [ 1.0399],\n",
              "          [-1.0233],\n",
              "          [-0.1577]])],\n",
              " [tensor([0.0100, 0.0100, 0.0100, 0.0100]), tensor([0.0100])])"
            ]
          },
          "execution_count": 5,
          "metadata": {},
          "output_type": "execute_result"
        }
      ],
      "source": [
        "simple_network.get_all_parameters()"
      ]
    },
    {
      "cell_type": "code",
      "execution_count": 6,
      "metadata": {
        "colab": {
          "base_uri": "https://localhost:8080/"
        },
        "id": "SrmwcUDWF0qL",
        "outputId": "031f5781-c634-486e-cf10-0c786bee8446"
      },
      "outputs": [
        {
          "data": {
            "text/plain": [
              "<bound method Module.modules of MLP_ReLU(\n",
              "  (first_layer): Sequential(\n",
              "    (0): Linear(in_features=1, out_features=4, bias=True)\n",
              "    (1): ReLU()\n",
              "  )\n",
              "  (hidden_layers): Sequential(\n",
              "    (0): Linear(in_features=4, out_features=1, bias=True)\n",
              "  )\n",
              ")>"
            ]
          },
          "execution_count": 6,
          "metadata": {},
          "output_type": "execute_result"
        }
      ],
      "source": [
        "simple_network.modules"
      ]
    },
    {
      "cell_type": "code",
      "execution_count": 7,
      "metadata": {
        "id": "dMT-wnP3EvLu"
      },
      "outputs": [],
      "source": [
        "class LinearRegion1D:\n",
        "\n",
        "    def __init__(self, param_min, param_max, fn_weight, fn_bias, next_layer_off):\n",
        "\n",
        "        # Region a^Tx + b = 0\n",
        "        '''\n",
        "        a: fn_weight\n",
        "        b: bn_bias\n",
        "        '''\n",
        "        self._min = param_min\n",
        "        self._max = param_max\n",
        "        self._fn_weight = fn_weight\n",
        "        self._fn_bias = fn_bias\n",
        "        self._next_layer_off = next_layer_off\n",
        "\n",
        "    def get_new_regions(self, new_weight_n, new_bias_n, n):\n",
        "        weight_n = torch.dot(self._fn_weight, new_weight_n) # <a, a'>\n",
        "        bias_n = torch.dot(self._fn_bias, new_weight_n) + new_bias_n # <b, a'> + b\n",
        "\n",
        "        if weight_n == 0:\n",
        "            min_image = bias_n\n",
        "            max_image = bias_n\n",
        "        elif weight_n >= 0:\n",
        "            min_image = weight_n * self._min + bias_n\n",
        "            max_image = weight_n * self._max + bias_n\n",
        "        else:\n",
        "            min_image = weight_n * self._max + bias_n\n",
        "            max_image = weight_n * self._min + bias_n\n",
        "        if 0 < min_image:\n",
        "            return [self]\n",
        "        elif 0 > max_image:\n",
        "            self._next_layer_off.append(n)\n",
        "            return [self]\n",
        "        else:\n",
        "            if weight_n == 0:\n",
        "                return [self]\n",
        "            else:\n",
        "                preimage = (-bias_n) / weight_n\n",
        "                next_layer_off0 = list(np.copy(self._next_layer_off))\n",
        "                next_layer_off1 = list(np.copy(self._next_layer_off))\n",
        "                if weight_n >= 0:\n",
        "                    next_layer_off0.append(n)\n",
        "                else:\n",
        "                    next_layer_off1.append(n)\n",
        "                region0 = LinearRegion1D(self._min, preimage, self._fn_weight, self._fn_bias, next_layer_off0)\n",
        "                region1 = LinearRegion1D(preimage, self._max, self._fn_weight, self._fn_bias, next_layer_off1)\n",
        "                return [region0, region1]\n",
        "\n",
        "    def next_layer(self, new_weight, new_bias):\n",
        "        # self._fn_weight = np.dot(self._fn_weight, new_weight.T).ravel()\n",
        "        self._fn_weight = self._fn_weight @ new_weight\n",
        "        self._fn_bias = self._fn_bias @ new_weight + new_bias\n",
        "        self._fn_weight[self._next_layer_off] = 0\n",
        "        self._fn_bias[self._next_layer_off] = 0\n",
        "        self._next_layer_off = []\n",
        "\n",
        "    @property\n",
        "    def max(self):\n",
        "        return self._max\n",
        "\n",
        "    @property\n",
        "    def min(self):\n",
        "        return self._min\n",
        "\n",
        "    @property\n",
        "    def fn_weight(self):\n",
        "        return self._fn_weight\n",
        "\n",
        "    @property\n",
        "    def fn_bias(self):\n",
        "        return self._fn_bias\n",
        "\n",
        "    @property\n",
        "    def next_layer_off(self):\n",
        "        return self._next_layer_off\n",
        "\n",
        "    @property\n",
        "    def dead(self):\n",
        "        return np.all(np.equal(self._fn_weight, 0))\n"
      ]
    },
    {
      "cell_type": "code",
      "execution_count": 8,
      "metadata": {
        "id": "gtF9_KxQFwgo"
      },
      "outputs": [],
      "source": [
        "class MultipleLinearRegression():\n",
        "    ''' Class that implements Multiple Linear Regression '''\n",
        "    def __init__(self):\n",
        "        self.b = 0\n",
        "        self.w = []\n",
        "        \n",
        "    def fit(self, X, y):\n",
        "        # If there is only one feature we need to reshape input.\n",
        "        if len(X.shape) == 1:\n",
        "            X.reshape(-1, 1)\n",
        "            \n",
        "        # Add 'ones' to model coefficient b in data.\n",
        "        ones = np.ones(shape=X.shape[0]).reshape(-1, 1)\n",
        "        X = np.concatenate((ones, X), 1)\n",
        "\n",
        "        print(X.shape)\n",
        "\n",
        "\n",
        "        print(X.transpose().dot(X).shape)\n",
        "        print(np.linalg.inv(X.transpose().dot(X)).dot(X.transpose()).shape)\n",
        "        print(\"----\")\n",
        "        coeficients = np.linalg.inv(X.transpose().dot(X)).dot(X.transpose()).dot(y)\n",
        "        self.b = coeficients[0]\n",
        "        self.w = coeficients[1:]\n",
        "\n",
        "    def predict(self, X):\n",
        "        predictions = []\n",
        "        for x in X:\n",
        "            prediction = self.b\n",
        "\n",
        "            for xi, wi in zip(x, self.w):\n",
        "                prediction += wi * xi\n",
        "            \n",
        "            predictions.append(prediction)\n",
        "            \n",
        "        return predictions"
      ]
    },
    {
      "cell_type": "code",
      "execution_count": 9,
      "metadata": {
        "id": "WdxEi1rCFgYL"
      },
      "outputs": [],
      "source": [
        "\n",
        "# Double increase the search distance through the line\n",
        "# Starting from the origin\n",
        "\n",
        "SAMPLE_RADIUS = int(10 * np.sqrt(INPUT_DIM)) # 10 * √d\n",
        "SAMPLE_LENGTH = int(500 * np.sqrt(INPUT_DIM)) # 500 * √d\n",
        "\n",
        "PRECISION_LINE = 1e-5\n",
        "PRECISION_BOUNDARY = 1e-4\n",
        "\n",
        "ITERATIONS = 15\n",
        "EPS = 1e-3\n",
        "CHECK_EPS = 5e-2\n",
        "DEDUPLICATION_EPS = 1e-3\n",
        "\n",
        "torch.random.seed = 32\n",
        "np.random.seed = 32\n",
        "\n",
        "APPROX_RADIUS = 0.2\n",
        "APPROX_NUM = int(1.5 * INPUT_DIM)\n",
        "APPROX_THRESHOLD = 0.9\n",
        "\n",
        "MULTIPLE_POINTS = False  # Option for tuning approx_boundary, default is False.\n",
        "\n",
        "CHECK_NUM = 10\n",
        "CHECK_RADIUS = int(50 * np.sqrt(INPUT_DIM) * (1 / CHECK_EPS))"
      ]
    },
    {
      "cell_type": "code",
      "execution_count": 28,
      "metadata": {
        "id": "auJWBeCWPSwV"
      },
      "outputs": [],
      "source": [
        "def plot_network_1d_1d(model, start_point=-10, step_size=.1):\n",
        "  assert model.input_dim == 1\n",
        "  samples = {}\n",
        "\n",
        "  def sub_interval_solving(start, end):\n",
        "      # print(start, end)\n",
        "      start_point1 = model(torch.tensor([start], dtype=torch.float32)[None, :]).detach().numpy()\n",
        "      start_point2 = model(torch.tensor([start + step_size], dtype=torch.float32)[None, :]).detach().numpy()\n",
        "      start_slope = abs(float((start_point2 - start_point1) / step_size))\n",
        "\n",
        "      if abs(start - end) < 1e-1:\n",
        "        if round(start_slope, 4) not in samples:\n",
        "          samples[round(start_slope, 4)] = [start, end]\n",
        "        else:\n",
        "          samples[round(start_slope, 4)][0] = min(samples[round(start_slope, 2)][0], start)\n",
        "          samples[round(start_slope, 4)][1] = max(samples[round(start_slope, 2)][1], end)\n",
        "        return\n",
        "\n",
        "      end_point1 = model(torch.tensor([end], dtype=torch.float32)[None, :]).detach().numpy()\n",
        "      end_point2 = model(torch.tensor([end + step_size], dtype=torch.float32)[None, :]).detach().numpy()\n",
        "      end_slope = abs(float((end_point2 - end_point1) / step_size))\n",
        "\n",
        "      # print(start_slope, end_slope)\n",
        "      # input()\n",
        "\n",
        "\n",
        "      if abs(end_slope - start_slope) < EPS:\n",
        "        if round(start_slope, 2) not in samples:\n",
        "          samples[round(start_slope, 2)] = [start, end]\n",
        "        else:\n",
        "          samples[round(start_slope, 2)][0] = min(samples[round(start_slope, 2)][0], start)\n",
        "          samples[round(start_slope, 2)][1] = max(samples[round(start_slope, 2)][1], end)\n",
        "\n",
        "        # print(samples)\n",
        "      else:\n",
        "        sub_interval_solving(start, (start + end) / 2)\n",
        "        sub_interval_solving((start + end) / 2, end)\n",
        "\n",
        "  sub_interval_solving(start_point, -1 * start_point)\n",
        "  return samples\n",
        "\n",
        "def plot_query(model, start_point=-10, end_point=10, step_size=.01):\n",
        "\n",
        "  samples = {}\n",
        "  samples_points = {}\n",
        "  \n",
        "  curent_point = start_point\n",
        "  next_point = start_point + step_size\n",
        "  curent_slope = 0\n",
        "  while True:\n",
        "    curent_y = float(model(torch.tensor([curent_point], dtype=torch.float32)[None, :]).detach().numpy())\n",
        "    next_y = float(model(torch.tensor([curent_point + step_size], dtype=torch.float32)[None, :]).detach().numpy())\n",
        "\n",
        "    slope = abs(float((next_y - curent_y) / (step_size)))\n",
        "    if abs(slope - curent_slope) > EPS:\n",
        "      curent_slope = slope\n",
        "\n",
        "      samples[round(slope, 4)] = (curent_point, curent_y)\n",
        "    else:\n",
        "      if round(slope, 4) not in samples_points:\n",
        "        samples_points[round(slope, 4)] = [(curent_point, curent_y)]\n",
        "      elif len(samples_points[round(slope, 4)]) < 3:\n",
        "        samples_points[round(slope, 4)].append((curent_point, curent_y))\n",
        "    if curent_point > end_point:\n",
        "      break\n",
        "    curent_point += step_size\n",
        "  return samples, samples_points"
      ]
    },
    {
      "cell_type": "code",
      "execution_count": 29,
      "metadata": {
        "id": "Er-3_uy_9X-a"
      },
      "outputs": [],
      "source": [
        "res, res_samp = plot_query(simple_network)\n",
        "# for slope, pt in res.items():\n",
        "#   y0 = float(simple_network(torch.tensor([pt[0]], dtype=torch.float32)[None, :]).detach().numpy())\n",
        "#   y1 = float(simple_network(torch.tensor([pt[1]], dtype=torch.float32)[None, :]).detach().numpy())\n",
        "\n",
        "#   # b = y0 - slope * pt[0]\n",
        "#   # print(b)\n",
        "#   # y1 = pt[1] * slope + b\n",
        "\n",
        "#   print(pt)\n",
        "\n",
        "#   plt.plot([pt[0], pt[1]], [y0, y1], 'bo', linestyle=\"--\")"
      ]
    },
    {
      "cell_type": "code",
      "execution_count": 30,
      "metadata": {
        "colab": {
          "base_uri": "https://localhost:8080/"
        },
        "id": "50YrvJTVAAtJ",
        "outputId": "36c25bbd-826f-4a9c-f8b8-e0007f5df301"
      },
      "outputs": [
        {
          "data": {
            "text/plain": [
              "{0.0894: (-10, -0.8853471875190735),\n",
              " 0.091: (-0.7400000000001694, -0.05771587789058685),\n",
              " 0.1036: (-0.7300000000001694, -0.05680573731660843),\n",
              " 0.0558: (-0.0600000000001689, 0.012605799362063408),\n",
              " 0.0075: (-0.050000000000168895, 0.013163598254323006),\n",
              " 0.0211: (-0.02000000000016889, 0.013387959450483322),\n",
              " 0.9873: (-0.01000000000016889, 0.013177248649299145),\n",
              " 1.0084: (0.009999999999831111, -0.0065684933215379715),\n",
              " 1.0767: (0.01999999999983111, -0.016652032732963562)}"
            ]
          },
          "execution_count": 30,
          "metadata": {},
          "output_type": "execute_result"
        }
      ],
      "source": [
        "res"
      ]
    },
    {
      "cell_type": "code",
      "execution_count": 31,
      "metadata": {
        "colab": {
          "base_uri": "https://localhost:8080/"
        },
        "id": "euDP8_tgACQi",
        "outputId": "016d64f6-1e9a-40a8-c005-019f2fcb4b24"
      },
      "outputs": [
        {
          "data": {
            "text/plain": [
              "{0.0894: [(-9.99, -0.8844534158706665),\n",
              "  (-9.98, -0.8835596442222595),\n",
              "  (-9.97, -0.8826659917831421)],\n",
              " 0.1036: [(-0.7200000000001694, -0.05576974153518677),\n",
              "  (-0.7100000000001694, -0.05473373830318451),\n",
              "  (-0.7000000000001694, -0.053697749972343445)],\n",
              " 0.0075: [(-0.040000000000168894, 0.013238385319709778),\n",
              "  (-0.03000000000016889, 0.013313171453773975)],\n",
              " 0.9873: [(-1.6888920817414999e-13, 0.0033043758012354374)],\n",
              " 1.0767: [(0.029999999999831113, -0.027418674901127815),\n",
              "  (0.039999999999831115, -0.03818532079458237),\n",
              "  (0.04999999999983112, -0.04895196855068207)],\n",
              " 1.0766: [(2.159999999999829, -2.320713758468628),\n",
              "  (2.269999999999827, -2.4391467571258545),\n",
              "  (2.6499999999998187, -2.8482792377471924)],\n",
              " 1.0768: [(7.869999999999708, -8.468465805053711),\n",
              "  (7.929999999999707, -8.533065795898438),\n",
              "  (7.969999999999706, -8.576131820678711)],\n",
              " 1.0765: [(7.939999999999706, -8.54383373260498),\n",
              "  (8.019999999999705, -8.629966735839844),\n",
              "  (8.139999999999702, -8.759166717529297)],\n",
              " 1.0764: [(8.2699999999997, -8.899133682250977),\n",
              "  (9.719999999999668, -10.460296630859375)]}"
            ]
          },
          "execution_count": 31,
          "metadata": {},
          "output_type": "execute_result"
        }
      ],
      "source": [
        "res_samp"
      ]
    },
    {
      "cell_type": "code",
      "execution_count": 11,
      "metadata": {
        "colab": {
          "base_uri": "https://localhost:8080/",
          "height": 517
        },
        "id": "C6vBQfssQ82A",
        "outputId": "72691c09-24ab-43be-b2f9-aeb619a1aecc"
      },
      "outputs": [
        {
          "name": "stdout",
          "output_type": "stream",
          "text": [
            "[-10, -0.78125]\n",
            "[-0.78125, -0.078125]\n",
            "[-0.078125, 0.0]\n",
            "[0.0, 0.078125]\n",
            "[0.078125, 10]\n"
          ]
        },
        {
          "data": {
            "image/png": "[encoded data removed]",
            "text/plain": [
              "<Figure size 640x480 with 1 Axes>"
            ]
          },
          "metadata": {},
          "output_type": "display_data"
        }
      ],
      "source": [
        "res = plot_network_1d_1d(simple_network)\n",
        "for slope, pt in res.items():\n",
        "  y0 = float(simple_network(torch.tensor([pt[0]], dtype=torch.float32)[None, :]).detach().numpy())\n",
        "  y1 = float(simple_network(torch.tensor([pt[1]], dtype=torch.float32)[None, :]).detach().numpy())\n",
        "\n",
        "  # b = y0 - slope * pt[0]\n",
        "  # print(b)\n",
        "  # y1 = pt[1] * slope + b\n",
        "\n",
        "  print(pt)\n",
        "\n",
        "  plt.plot([pt[0], pt[1]], [y0, y1], 'bo', linestyle=\"--\")\n"
      ]
    },
    {
      "cell_type": "code",
      "execution_count": 12,
      "metadata": {
        "colab": {
          "base_uri": "https://localhost:8080/"
        },
        "id": "EtgLEdsn7eUq",
        "outputId": "f376023a-ba1d-4aa8-b254-bfdb45dc8803"
      },
      "outputs": [
        {
          "data": {
            "text/plain": [
              "{0.09: [-10, -0.78125],\n",
              " 0.1: [-0.78125, -0.078125],\n",
              " 0.29: [-0.078125, 0.0],\n",
              " 1.06: [0.0, 0.078125],\n",
              " 1.08: [0.078125, 10]}"
            ]
          },
          "execution_count": 12,
          "metadata": {},
          "output_type": "execute_result"
        }
      ],
      "source": [
        "res"
      ]
    },
    {
      "cell_type": "code",
      "execution_count": 13,
      "metadata": {
        "colab": {
          "base_uri": "https://localhost:8080/"
        },
        "id": "Pw82b8kt7gQo",
        "outputId": "c79ebed9-5fe1-41c4-b3b4-f8e389a36edd"
      },
      "outputs": [
        {
          "data": {
            "text/plain": [
              "([tensor([[ 0.1819,  0.0137,  0.9721, -0.5668]]),\n",
              "  tensor([[-0.5284],\n",
              "          [ 1.0399],\n",
              "          [-1.0233],\n",
              "          [-0.1577]])],\n",
              " [tensor([0.0100, 0.0100, 0.0100, 0.0100]), tensor([0.0100])])"
            ]
          },
          "execution_count": 13,
          "metadata": {},
          "output_type": "execute_result"
        }
      ],
      "source": [
        "simple_network.get_all_parameters()"
      ]
    },
    {
      "cell_type": "code",
      "execution_count": null,
      "metadata": {
        "id": "J3sJ8HZtpMm2"
      },
      "outputs": [],
      "source": []
    },
    {
      "cell_type": "code",
      "execution_count": null,
      "metadata": {
        "id": "HG4u37ZEslrM"
      },
      "outputs": [],
      "source": [
        "\n",
        "def plot_calc_1d(model, endpt1, endpt2, output_pts=False):\n",
        "    assert len(endpt1) == 2, 'plot_calc_1d requires 2D input'\n",
        "    points = np.array(calculate_exact_1d(model, torch.tensor(endpt1, dtype=torch.float64), torch.tensor(endpt2, dtype=torch.float64)))\n",
        "    print(points)\n",
        "    print(endpt1)\n",
        "    print(endpt2)\n",
        "    pts_x = (points * (endpt2[0].detach().numpy() - endpt1[0].detach().numpy())) + endpt1[0].detach().numpy()\n",
        "    pts_y = (points * (endpt2[1].detach().numpy() - endpt1[1].detach().numpy())) + endpt1[1].detach().numpy()\n",
        "    plt.scatter(pts_x, pts_y, color='black')\n",
        "    if output_pts:\n",
        "        return points\n",
        "\n",
        "def plot_calc_2d(regions, ax, seed=33, edges=False, gradients=False, color_by_layer=True, colors=['blue', 'red', 'gold']):\n",
        "    np.random.seed(seed)\n",
        "    min_gradient = np.inf\n",
        "    max_gradient = -np.inf\n",
        "    for region in regions:\n",
        "        gradient = region.fn_weight[0, 0]\n",
        "        min_gradient = min(min_gradient, gradient)\n",
        "        max_gradient = max(max_gradient, gradient)\n",
        "    minimum = np.array([np.inf, np.inf])\n",
        "    maximum = np.array([-np.inf, -np.inf])\n",
        "    for region in regions:\n",
        "        vertices = region.vertices\n",
        "        minimum = np.minimum(np.min(vertices, axis=0), minimum)\n",
        "        maximum = np.maximum(np.max(vertices, axis=0), maximum)\n",
        "        if edges:\n",
        "            edge_neurons = region.edge_neurons\n",
        "            num_vertices = vertices.shape[0]\n",
        "            for i in range(num_vertices):\n",
        "                np.random.seed(hash(edge_neurons[i]) % (2**20) + seed)\n",
        "                j = (i + 1) % num_vertices\n",
        "                if vertices[i, 0] != vertices[j, 0] and vertices[i, 1] != vertices[j, 1]:\n",
        "                    if color_by_layer:\n",
        "                        _ = ax.plot([vertices[i, 0], vertices[j, 0]], [vertices[i, 1], vertices[j, 1]],\n",
        "                                    c=colors[edge_neurons[i][0]])\n",
        "                    else:\n",
        "                        _ = ax.plot([vertices[i, 0], vertices[j, 0]], [vertices[i, 1], vertices[j, 1]],\n",
        "                                    c=np.random.rand(3, 1))\n",
        "                else:\n",
        "                    _ = ax.plot([vertices[i, 0], vertices[j, 0]], [vertices[i, 1], vertices[j, 1]], c='black')\n",
        "            if gradients:\n",
        "                gradient = region.fn_weight[0, 0]\n",
        "                gradient = (gradient - min_gradient) / (max_gradient - min_gradient)\n",
        "                _ = ax.fill(vertices[:, 0], vertices[:, 1], c=np.array([0, gradient, 0]), alpha=0.9)\n",
        "        else:\n",
        "            _ = ax.fill(vertices[:, 0], vertices[:, 1], c=np.random.rand(3, 1))\n",
        "    plt.xticks([], [])\n",
        "    plt.yticks([], [])\n",
        "    ax.set_xlim([minimum[0], maximum[0]])\n",
        "    ax.set_ylim([minimum[1], maximum[1]])\n",
        "    ax.set_aspect('equal')\n",
        "    ax.set_xlabel('Input dim 1', size=30)\n",
        "    ax.set_ylabel('Input dim 2', size=30)"
      ]
    },
    {
      "cell_type": "code",
      "execution_count": 136,
      "metadata": {
        "colab": {
          "base_uri": "https://localhost:8080/",
          "height": 559
        },
        "id": "HQBjwCcWt00X",
        "outputId": "c12bc287-77d2-42e8-b5a3-823a72daed54"
      },
      "outputs": [
        {
          "name": "stderr",
          "output_type": "stream",
          "text": [
            "<ipython-input-135-914ee21f60c7>:3: UserWarning: To copy construct from a tensor, it is recommended to use sourceTensor.clone().detach() or sourceTensor.clone().detach().requires_grad_(True), rather than torch.tensor(sourceTensor).\n",
            "  points = np.array(calculate_exact_1d(model, torch.tensor(endpt1, dtype=torch.float64), torch.tensor(endpt2, dtype=torch.float64)))\n"
          ]
        },
        {
          "name": "stdout",
          "output_type": "stream",
          "text": [
            "[0.48284092 0.50292822 0.50562512 0.51190621 0.51408908 0.51625194\n",
            " 0.53016988 0.57969476 0.60182832 0.68754443]\n",
            "tensor([ 259.6422, -240.3001])\n",
            "tensor([-277.8329,  219.0140])\n"
          ]
        },
        {
          "data": {
            "image/png": "[encoded data removed]",
            "text/plain": [
              "<Figure size 640x480 with 1 Axes>"
            ]
          },
          "metadata": {},
          "output_type": "display_data"
        }
      ],
      "source": [
        "endpt1, endpt2 = sample_point()\n",
        "plot_calc_1d(simple_network, endpt1, endpt2)\n",
        "# exact_pts = calculate_exact_1d(simple_network, torch.tensor(endpt1, dtype=torch.float64), torch.tensor(endpt2, dtype=torch.float64))\n",
        "\n"
      ]
    },
    {
      "cell_type": "code",
      "execution_count": null,
      "metadata": {
        "id": "zxclMwfft1Yj"
      },
      "outputs": [],
      "source": [
        "def compute_gradient_vmap(model, input_point, epsilon=1e-5):\n",
        "    \"\"\"\n",
        "    Estimate the gradient of a black-box deep ReLU network using finite differences and vmap.\n",
        "    \n",
        "    :param model: The black-box PyTorch model (a callable function).\n",
        "    :param input_point: The input point (NumPy array) at which to compute the gradient.\n",
        "    :param epsilon: The perturbation value for finite differences.\n",
        "    :return: The estimated gradient (NumPy array) at the input point.\n",
        "    \"\"\"\n",
        "\n",
        "    # Convert the input_point to a PyTorch tensor\n",
        "    x = torch.from_numpy(input_point).float()\n",
        "\n",
        "    # Compute the function value f(X)\n",
        "    f_x = model(x)\n",
        "\n",
        "    # Create a perturbation matrix (each row is a perturbed input)\n",
        "    perturbation_matrix = np.eye(input_point.size) * epsilon\n",
        "    x_perturbed = torch.from_numpy(input_point + perturbation_matrix).float()\n",
        "\n",
        "    # Compute the function values f(X_i) for all perturbed inputs\n",
        "    # using vmap to batch the computation\n",
        "    f_x_perturbed = torch.vmap(model)(x_perturbed)\n",
        "\n",
        "    # Compute the finite difference approximation for the gradient\n",
        "    grad = (f_x_perturbed - f_x) / epsilon\n",
        "\n",
        "    return grad.numpy()"
      ]
    },
    {
      "cell_type": "code",
      "execution_count": 36,
      "metadata": {
        "id": "GsFjBaxL1WkP"
      },
      "outputs": [],
      "source": [
        "def sample_point():\n",
        "\n",
        "  # Sample  midpoint at a certain radius\n",
        "  midpoint = torch.rand((INPUT_DIM,)) - 0.5 * 10 # Sample a point from interval [-0.5, 0.5); M\n",
        "  midpoint /= torch.linalg.norm(midpoint) # Make it a unit vector\n",
        "\n",
        "  perp = torch.rand((INPUT_DIM,)) - 0.5 # v\n",
        "  perp = perp - torch.dot(midpoint, perp) * midpoint # v - (v^T . M) * M      Why elementwise multiplication?!\n",
        "  perp /= torch.linalg.norm(perp)\n",
        "\n",
        "  endpt1 = SAMPLE_RADIUS * midpoint + (SAMPLE_LENGTH / 2) * perp # rM + lv\n",
        "  endpt2 = SAMPLE_RADIUS * midpoint - (SAMPLE_LENGTH / 2) * perp # rM - lv\n",
        "\n",
        "  return endpt1, endpt2\n",
        "\n",
        "\n",
        "# def calculate_slope()\n",
        "\n",
        "\n",
        "def single_binary_search(model, endpt1, endpt2, eps, precision=1e-5):\n",
        "\n",
        "  y1 = model()\n",
        "\n",
        "\n",
        "def approximate_critical_points(model, end_point1, end_point2, iterations_, eps, init_samples=1, precision=1e-5, use_outputs=None, single_search=False):\n",
        "  \"\"\"\n",
        "  This function sample some points in the [0, 1] intnerval and query the network and calculate the slopes of the sorted queries and \n",
        "  keep the slopes which are distinct.\n",
        "  Then do the binary search over the sampled points to find\n",
        "  the correct hyperplane boundaries basesd on the queries (different slopes results from the model)\n",
        "\n",
        "  There's two option single point and multiple point search, in multiple point we query the network a lot!\n",
        "\n",
        "  INPUTS:\n",
        "  model -> a pytorch model\n",
        "  end_point1, end_point2 -> (1d torch tensor) line segment query\n",
        "  iterations_ -> (int) number of iterations for the search queries\n",
        "  eps -> (float) epsilon threshold for comaring the slopes\n",
        "  init_samples -> (int) number of the samples to begin with\n",
        "  precision -> (float) epsilon threshold for considering two query point distinct or not\n",
        "\n",
        "  RETURN:\n",
        "  (points belong to different hyperplane on the line segment, number of sampled pointss)\n",
        "  \"\"\"\n",
        "\n",
        "  with torch.no_grad():\n",
        "\n",
        "    end_point1 = end_point1.reshape(1, -1) # Making 2d array\n",
        "    end_point2 = end_point2.reshape(1, -1)\n",
        "    samples_t = torch.tensor(np.arange(0, 1.0000000001, 1./(init_samples + 1), dtype=np.float64), dtype=torch.float64) # sample points in [0, 1] with same division of the intnerval \n",
        "    total_samples = 0\n",
        "\n",
        "    for iter in range(iterations_):\n",
        "      num_samples = len(samples_t)\n",
        "      samples = torch.repeat_interleave(end_point1, repeats=num_samples, dim=0) + (samples_t.reshape(-1, 1) * (end_point2 - end_point1)) # ep1 + t(ep1 - ep2) \\forall t\n",
        "      outcomes = model(samples) # get the query of the model\n",
        "\n",
        "      total_samples += num_samples\n",
        "      output_dim = outcomes.shape[1]\n",
        "\n",
        "      if use_outputs == None:\n",
        "          outputs_used = output_dim\n",
        "      else:\n",
        "          outputs_used = use_outputs\n",
        "\n",
        "      # Calculating the slopes for all the output dim  of the hyperplanes: (f(x) - f(y)) / (x - y) for queries\n",
        "##################### WHY do we need torch.abs ????????????!!!!!!!!!!!!\n",
        "      # slopes = torch.abs(torch.divide(outcomes[1:,] - outcomes[:-1,],  torch.repeat_interleave((samples_t[1:] - samples_t[:-1])[:, None], repeats=model.output_dim, dim=1)))[:,:-1].T\n",
        "      slopes = torch.abs(torch.divide(outcomes[1:,] - outcomes[:-1,],  torch.repeat_interleave((samples_t[1:] - samples_t[:-1])[:, None], repeats=model.output_dim, dim=1))).T\n",
        "\n",
        "      # Check epsilon difference between calculated slopes\n",
        "      diff = torch.logical_or(torch.less(slopes[:, 1:], (1 - eps) * slopes[:, :-1]), torch.greater(slopes[:, 1:], (1 + eps) * slopes[:, :-1]))\n",
        "      diff = torch.any(diff, dim=0)\n",
        "\n",
        "      if single_search:\n",
        "        diff_indices = torch.nonzero(diff)[0] # signle search\n",
        "      else:\n",
        "        diff_indices = torch.nonzero(diff) # multiple search\n",
        "      end_t = samples_t[[0, -1]]\n",
        "      keep_t = samples_t[diff_indices + 1]\n",
        "\n",
        "      # Sampling middle points\n",
        "      if iter < iterations_ - 1:\n",
        "        new_t_1 = (2 * keep_t + samples_t[diff_indices]) / 3\n",
        "        new_t_2 = (2 * keep_t + samples_t[diff_indices + 2]) / 3\n",
        "        if single_search:\n",
        "          samples_t, _ = torch.sort(torch.hstack((end_t, keep_t, new_t_1, new_t_2))) # single search\n",
        "        else:\n",
        "          samples_t, _ = torch.sort((torch.vstack((end_t[:, None], keep_t, new_t_1, new_t_2))).flatten()) # multiple search\n",
        "\n",
        "      # print(samples_t)\n",
        "\n",
        "\n",
        "    # Compare the difference between sample vectors to the uniqueness threshold\n",
        "    if len(samples_t) > 0:\n",
        "      if single_search:\n",
        "        unique = np.nonzero(samples_t[1:] - samples_t[:-1] > precision)[0] # single search\n",
        "      else:\n",
        "        unique = torch.nonzero(samples_t[1:] - samples_t[:-1] > precision).flatten() # multiple search\n",
        "      output = 0.5 * (samples_t[torch.hstack((unique, torch.tensor([-1])))] + samples_t[torch.hstack((torch.tensor([0]), unique + 1))])\n",
        "    else:\n",
        "        output = samples_t\n",
        "\n",
        "    return output, total_samples\n",
        "\n",
        "def regions_1d(the_weights, the_biases, endpt1, endpt2):\n",
        "    '''\n",
        "    This function cosntruct all of the linear hyperplane of a network with its given weights and biases, over a line segment which is specified with\n",
        "    the endpt1, endpt2\n",
        "\n",
        "    INPUTS:\n",
        "    the_weights -> (torch.tensor(2d))\n",
        "    the biases -> (torch.tensor(3d))\n",
        "    endpt1, endpt2 -> 2d tensors, line segment\n",
        "\n",
        "\n",
        "    RETURN:\n",
        "    [Regions]\n",
        "    '''\n",
        "    regions = [LinearRegion1D(param_min=0., param_max=1., fn_weight=(endpt2 - endpt1), fn_bias=endpt1,\n",
        "                              next_layer_off=[])]\n",
        "    depth = len(the_weights)\n",
        "\n",
        "    for k in range(depth - 1):\n",
        "        for n in range(the_biases[k].shape[0]):\n",
        "            new_regions = []\n",
        "            for region in regions:\n",
        "                new_regions = new_regions + region.get_new_regions(the_weights[k][:, n], the_biases[k][n], n)\n",
        "            regions = new_regions\n",
        "        for region in regions:\n",
        "            region.next_layer(the_weights[k], the_biases[k])\n",
        "    for region in regions:\n",
        "        region.next_layer(the_weights[-1], the_biases[-1])\n",
        "    return regions\n",
        "\n",
        "\n",
        "def region_pts_1d(regions, param_min=-torch.inf):\n",
        "    '''\n",
        "    This function return the points alogside the line segment for all the linear depth 1 linear regions of the network\n",
        "\n",
        "    INPUTS:\n",
        "    regions -> [Regions]\n",
        "\n",
        "    RETURN:\n",
        "    ([int], [int]), the x's length of the query line segment (endpoint1 - endpoint2) * x + endpoint1\n",
        "    '''\n",
        "    xs = []\n",
        "    ys = []\n",
        "    for region in regions:\n",
        "        if region.min == param_min:\n",
        "            pass\n",
        "        else:\n",
        "            xs.append(region.min)\n",
        "            ys.append(region.min * region.fn_weight + region.fn_bias)\n",
        "    return xs, ys\n",
        "\n",
        "\n",
        "def calculate_exact_1d(model, end_point1, end_point2): #calc_1d\n",
        "  '''\n",
        "  This function calculate adn return exact boundary points of first depth alongside of the line segmennt\n",
        "\n",
        "  INPUTS:\n",
        "  model -> pytorch model\n",
        "  endpoint1, endpoint2 -> torch.tensor, line segmeent\n",
        "\n",
        "  RETURN:\n",
        "  ([int]), exact boundary points of the netowkrs\n",
        "  '''\n",
        "  with torch.no_grad():\n",
        "    the_weights, the_biases = model.get_all_parameters()\n",
        "    # the_biases = model.first_layer.state_dict()['0.bias']\n",
        "\n",
        "    # Construct all the linear regions, given weights and biases alongside a given line segment\n",
        "    exact_regions = regions_1d(the_weights, the_biases, end_point1, end_point2)\n",
        "\n",
        "    points, _ = region_pts_1d(exact_regions, 0)\n",
        "    return points\n",
        "\n",
        "def approx_boundary(model, point, radius, num_samples, threshold, iterations, eps, on_pos_side_of=None, init_samples=1, precision=1e-4, use_outputs=None, multiple_points = False):\n",
        "  dim = model.input_dim\n",
        "  results = []\n",
        "  i = 0\n",
        "  total_samples = 0\n",
        "\n",
        "  while len(results) < num_samples:\n",
        "    if len(results) == 0 and i > 10 * num_samples:  # Heuristic stopping point\n",
        "        print(\"Exceeded maximum number of samples\")\n",
        "        return None, None, None, None, total_samples\n",
        "    i += 1\n",
        "\n",
        "    midpoint = torch.rand((dim,)) - 0.5 # Sample a point from interval [-0.5, 0.5); M\n",
        "    midpoint /= torch.linalg.norm(midpoint) # Make it a unit vector\n",
        "\n",
        "    perp = torch.rand((dim,)) - 0.5 # v\n",
        "    perp = perp - torch.dot(midpoint, perp) * midpoint # v - (v^T . M) * M      Why elementwise multiplication?!\n",
        "    perp /= torch.linalg.norm(perp)\n",
        "\n",
        "    endpt1 = point + radius * midpoint + int(50 * np.sqrt(dim)) * perp\n",
        "    endpt2 = point + radius * midpoint - int(50 * np.sqrt(dim)) * perp\n",
        "    \n",
        "    if type(on_pos_side_of) is not tuple:\n",
        "      output, samples = approximate_critical_points(model, endpt1, endpt2, iterations, eps, init_samples=init_samples,\n",
        "                                    precision=precision, use_outputs=use_outputs, single_search=False)\n",
        "      total_samples += samples\n",
        "\n",
        "      if len(output[1:-1]) > 0:\n",
        "        output = output[1:-1]\n",
        "        if len(results) == 0:\n",
        "          results = torch.repeat_interleave(output[None, :], repeats=endpt2.shape[0], dim=0).T * torch.repeat_interleave((endpt2 - endpt1)[None, :], repeats=output.shape[0], dim=0) # appennding result length to investigate line inn between a * (x_1 - x_2) + x_1\n",
        "        else:\n",
        "          results = torch.cat([results, torch.repeat_interleave(output[None, :], repeats=endpt2.shape[0], dim=0).T * torch.repeat_interleave((endpt2 - endpt1)[None, :], repeats=output.shape[0], dim=0)], dim=0)\n",
        "  \n",
        "  X = results[:, :-1]\n",
        "  y = results[:, -1]\n",
        "\n",
        "  mlr = RANSACRegressor(random_state=0).fit(X, y)\n",
        "  weight = torch.tensor(np.hstack((mlr.estimator_.coef_, -1)))\n",
        "\n",
        "  bias = mlr.estimator_.intercept_\n",
        "\n",
        "  bias /= torch.linalg.norm(weight)\n",
        "  weight /= torch.linalg.norm(weight)\n",
        "\n",
        "  return weight, bias, results[0, :], results, total_samples\n",
        "\n",
        "def is_straight(model, point, vec, eps, use_outputs=None):\n",
        "    '''\n",
        "    This function get a point and a vector and investigate whether the moving alongside the vector starting from the given point\n",
        "    change the hyperplane and we encounter bent or not\n",
        "\n",
        "    INPUT:\n",
        "      model -> a pytorch model\n",
        "      point -> (1d torch tensor) starting point\n",
        "      vec -> (1d torch tensor) vector which we want to move alonngside that\n",
        "      eps -> (float) epsilon threshold for comaring the slopes\n",
        "    \n",
        "    RETRUN:\n",
        "      torch(bool) -> indicate whether it's striaght or not\n",
        "    '''\n",
        "    # Moving from the point alongside the vic with 3 points\n",
        "    samples = torch.cat([(point - vec)[None, :], point[None, :], (point + vec)[None, :]])\n",
        "    preds = model(samples)\n",
        "    num_outputs = preds.shape[1]\n",
        "\n",
        "    if use_outputs == None:\n",
        "        outputs_used = num_outputs\n",
        "    else:\n",
        "        outputs_used = use_outputs\n",
        "    straight = True\n",
        "    slopes1 = []\n",
        "    slopes2 = []\n",
        "\n",
        "    slopes1 = preds[1, :] - preds[0, :]\n",
        "    slopes2 = preds[2, :] - preds[1, :]\n",
        "\n",
        "    # Check whether the results point are in a stright line or not\n",
        "    straight = torch.all(torch.logical_and(torch.abs(slopes2) > (1 - eps) * torch.abs(slopes1), torch.abs(slopes2) < (1 + eps) * torch.abs(slopes1)))\n",
        "    return straight\n",
        "\n",
        "\n",
        "def first_layer_estimate(model, approx_num1=0, approx_weight1=[], approx_bias1=[], unused=[]):\n",
        "\n",
        "\n",
        "  approx_weight1 = []\n",
        "  approx_bias1 = []\n",
        "  approx_number_of_first_hidden_layer = 0\n",
        "  s_time = time.time()\n",
        "  layer1_samples = 0\n",
        "\n",
        "  endpt1, endpt2 = sample_point()\n",
        "  # Approximate region transition points along sample segment, and check against exact answer.\n",
        "  approx_pts, samples = approximate_critical_points(model, endpt1, endpt2, ITERATIONS, EPS)\n",
        "\n",
        "  layer1_samples += samples\n",
        "\n",
        "  exact_pts = calculate_exact_1d(model, torch.tensor(endpt1, dtype=torch.float64), torch.tensor(endpt2, dtype=torch.float64))\n",
        "\n",
        "  # Check the precision of the estimation  \n",
        "  # for ex_pt in exact_pts:\n",
        "  #   if torch.all(torch.abs(approx_pts - ex_pt) > 1e-5):\n",
        "  #     print(ex_pt)\n",
        "  #     print(\"ERORR\")\n",
        "\n",
        "  print(\"Estimated num pts along line: %d, true num pts: %d\" % (len(approx_pts), len(exact_pts)))\n",
        "\n",
        "  ##########\n",
        "\n",
        "  for point_t in approx_pts:\n",
        "    point = (endpt2 - endpt1) * point_t + endpt1\n",
        "\n",
        "    # Check if this point lies on a hyperplane already found.\n",
        "    repeated = False\n",
        "    for m in range(approx_num1):\n",
        "        if not repeated:\n",
        "            value = np.dot(approx_weight1[m], point) + approx_bias1[m]\n",
        "            value_threshold = CHECK_EPS * np.linalg.norm(point)\n",
        "            if value_threshold > value > -value_threshold:\n",
        "                repeated = True\n",
        "\n",
        "    if not repeated: # and not (approx_num1 == network[0] and KNOWN_ARCHITECTURE):\n",
        "      # Find the boundary in the neighborhood of each point by sampling more transition points.\n",
        "      # and fitting a hyperplane.\n",
        "      weight, bias, _, pts, samples = approx_boundary(model, point, APPROX_RADIUS, APPROX_NUM,\n",
        "                                                      APPROX_THRESHOLD, ITERATIONS, EPS,\n",
        "                                                      precision=PRECISION_BOUNDARY,\n",
        "                                                      multiple_points=MULTIPLE_POINTS)\n",
        "      layer1_samples += samples\n",
        "\n",
        "      if np.array(weight).shape:  # Check that a valid hyperplane was found.\n",
        "          valid = True\n",
        "          i = 0\n",
        "          extra_pts = []\n",
        "\n",
        "          # Samples points a certain distance away to see if the hyperplane extends that far unchanged.\n",
        "          while valid and i < CHECK_NUM:\n",
        "              check_point = torch.rand((INPUT_DIM,)) - 0.5 # Sample a point from interval [-0.5, 0.5); M\n",
        "              check_point = check_point - weight * np.dot(weight, check_point)\n",
        "              check_point = point + CHECK_RADIUS * (check_point / torch.linalg.norm(check_point))\n",
        "              check_vec = CHECK_RADIUS * CHECK_EPS * weight\n",
        "              straight = is_straight(model, check_point, check_vec, EPS)\n",
        "              layer1_samples += 3\n",
        "              if straight:\n",
        "                  valid = False\n",
        "                  unused.append((point, weight, bias))\n",
        "              i += 1\n",
        "\n",
        "\n",
        "          # If passes checks, add candidate hyperplane to list for layer 1.\n",
        "          if valid:\n",
        "              # Check through proposed neurons for layer 1 for duplicate weights.\n",
        "              duplicate = False\n",
        "              # torch.norm(torch.abs(approx_weight1 - weight)) # TODODOOOOOOOOOOOOOOOOOOOOOO\n",
        "              for n in range(0, approx_number_of_first_hidden_layer):\n",
        "                  if np.linalg.norm(np.abs(approx_weight1[n]) - np.abs(weight)) < DEDUPLICATION_EPS:\n",
        "                      duplicate = True\n",
        "                      break\n",
        "              if not duplicate:\n",
        "                  approx_weight1.append(weight)\n",
        "                  approx_bias1.append(bias)\n",
        "                  approx_number_of_first_hidden_layer += 1\n",
        "        # elif not repeated:\n",
        "          unused.append((point, None, None))\n",
        "          # print(len(approx_weight1))\n",
        "\n",
        "  print(\"......LAYER 1 COMPLETE......\")\n",
        "  print(\"Approx num neurons in layer 1: %d, Time (seconds): %.1f\" % (approx_number_of_first_hidden_layer, time.time() - s_time))\n",
        "  print('Sample points for layer 1:', layer1_samples)\n",
        "  print(len(approx_bias1))\n",
        "  print(approx_weight1)\n",
        "  input()\n",
        "  return torch.stack(approx_weight1), torch.stack(approx_bias1), unused\n",
        "\n",
        "\n",
        "# def second_layer_estimate(model, ):\n",
        "\n"
      ]
    },
    {
      "cell_type": "code",
      "execution_count": 37,
      "metadata": {
        "id": "6OJPFcabXf_l"
      },
      "outputs": [],
      "source": [
        "\n",
        "########\n",
        "def algorithm(model):\n",
        "\n",
        "  approx_weight1, approx_bias1, unused = first_layer_estimate(model)\n",
        "\n",
        "  return approx_weight1, approx_bias1, unused\n"
      ]
    },
    {
      "cell_type": "code",
      "execution_count": 38,
      "metadata": {
        "colab": {
          "base_uri": "https://localhost:8080/",
          "height": 1000
        },
        "id": "pOcQ2pmRFk0v",
        "outputId": "7d445632-60f2-4244-b61d-0343475171cd"
      },
      "outputs": [
        {
          "name": "stdout",
          "output_type": "stream",
          "text": [
            "torch.Size([3, 1])\n",
            "torch.Size([2, 1])\n",
            "torch.Size([2, 1])\n",
            "torch.Size([2, 1])\n",
            "torch.Size([2, 1])\n",
            "torch.Size([2, 1])\n",
            "torch.Size([2, 1])\n",
            "torch.Size([2, 1])\n",
            "torch.Size([2, 1])\n",
            "torch.Size([2, 1])\n",
            "torch.Size([2, 1])\n",
            "torch.Size([2, 1])\n",
            "torch.Size([2, 1])\n",
            "torch.Size([2, 1])\n",
            "torch.Size([2, 1])\n",
            "Estimated num pts along line: 2, true num pts: 15\n",
            "torch.Size([3, 1])\n",
            "torch.Size([2, 1])\n",
            "torch.Size([2, 1])\n",
            "torch.Size([2, 1])\n",
            "torch.Size([2, 1])\n",
            "torch.Size([2, 1])\n",
            "torch.Size([2, 1])\n",
            "torch.Size([2, 1])\n",
            "torch.Size([2, 1])\n",
            "torch.Size([2, 1])\n",
            "torch.Size([2, 1])\n",
            "torch.Size([2, 1])\n",
            "torch.Size([2, 1])\n",
            "torch.Size([2, 1])\n",
            "torch.Size([2, 1])\n",
            "torch.Size([3, 1])\n",
            "torch.Size([2, 1])\n",
            "torch.Size([2, 1])\n",
            "torch.Size([2, 1])\n",
            "torch.Size([2, 1])\n",
            "torch.Size([2, 1])\n",
            "torch.Size([2, 1])\n",
            "torch.Size([2, 1])\n",
            "torch.Size([2, 1])\n",
            "torch.Size([2, 1])\n",
            "torch.Size([2, 1])\n",
            "torch.Size([2, 1])\n",
            "torch.Size([2, 1])\n",
            "torch.Size([2, 1])\n",
            "torch.Size([2, 1])\n",
            "torch.Size([3, 1])\n",
            "torch.Size([2, 1])\n",
            "torch.Size([2, 1])\n",
            "torch.Size([2, 1])\n",
            "torch.Size([2, 1])\n",
            "torch.Size([2, 1])\n",
            "torch.Size([2, 1])\n",
            "torch.Size([2, 1])\n",
            "torch.Size([2, 1])\n",
            "torch.Size([2, 1])\n",
            "torch.Size([2, 1])\n",
            "torch.Size([2, 1])\n",
            "torch.Size([2, 1])\n",
            "torch.Size([2, 1])\n",
            "torch.Size([2, 1])\n",
            "torch.Size([3, 1])\n",
            "torch.Size([2, 1])\n",
            "torch.Size([2, 1])\n",
            "torch.Size([2, 1])\n",
            "torch.Size([2, 1])\n",
            "torch.Size([2, 1])\n",
            "torch.Size([2, 1])\n",
            "torch.Size([2, 1])\n",
            "torch.Size([2, 1])\n",
            "torch.Size([2, 1])\n",
            "torch.Size([2, 1])\n",
            "torch.Size([2, 1])\n",
            "torch.Size([2, 1])\n",
            "torch.Size([2, 1])\n",
            "torch.Size([2, 1])\n",
            "torch.Size([3, 1])\n",
            "torch.Size([2, 1])\n",
            "torch.Size([2, 1])\n",
            "torch.Size([2, 1])\n",
            "torch.Size([2, 1])\n",
            "torch.Size([2, 1])\n",
            "torch.Size([2, 1])\n",
            "torch.Size([2, 1])\n",
            "torch.Size([2, 1])\n",
            "torch.Size([2, 1])\n",
            "torch.Size([2, 1])\n",
            "torch.Size([2, 1])\n",
            "torch.Size([2, 1])\n",
            "torch.Size([2, 1])\n",
            "torch.Size([2, 1])\n",
            "torch.Size([3, 1])\n",
            "torch.Size([2, 1])\n",
            "torch.Size([2, 1])\n",
            "torch.Size([2, 1])\n",
            "torch.Size([2, 1])\n",
            "torch.Size([2, 1])\n",
            "torch.Size([2, 1])\n",
            "torch.Size([2, 1])\n",
            "torch.Size([2, 1])\n",
            "torch.Size([2, 1])\n",
            "torch.Size([2, 1])\n",
            "torch.Size([2, 1])\n",
            "torch.Size([2, 1])\n",
            "torch.Size([2, 1])\n",
            "torch.Size([2, 1])\n",
            "torch.Size([3, 1])\n",
            "torch.Size([2, 1])\n",
            "torch.Size([2, 1])\n",
            "torch.Size([2, 1])\n",
            "torch.Size([2, 1])\n",
            "torch.Size([2, 1])\n",
            "torch.Size([2, 1])\n",
            "torch.Size([2, 1])\n",
            "torch.Size([2, 1])\n",
            "torch.Size([2, 1])\n",
            "torch.Size([2, 1])\n",
            "torch.Size([2, 1])\n",
            "torch.Size([2, 1])\n",
            "torch.Size([2, 1])\n",
            "torch.Size([2, 1])\n",
            "torch.Size([3, 1])\n",
            "torch.Size([2, 1])\n",
            "torch.Size([2, 1])\n",
            "torch.Size([2, 1])\n",
            "torch.Size([2, 1])\n",
            "torch.Size([2, 1])\n",
            "torch.Size([2, 1])\n",
            "torch.Size([2, 1])\n",
            "torch.Size([2, 1])\n",
            "torch.Size([2, 1])\n",
            "torch.Size([2, 1])\n",
            "torch.Size([2, 1])\n",
            "torch.Size([2, 1])\n",
            "torch.Size([2, 1])\n",
            "torch.Size([2, 1])\n",
            "torch.Size([3, 1])\n",
            "torch.Size([2, 1])\n",
            "torch.Size([2, 1])\n",
            "torch.Size([2, 1])\n",
            "torch.Size([2, 1])\n",
            "torch.Size([2, 1])\n",
            "torch.Size([2, 1])\n",
            "torch.Size([2, 1])\n",
            "torch.Size([2, 1])\n",
            "torch.Size([2, 1])\n",
            "torch.Size([2, 1])\n",
            "torch.Size([2, 1])\n"
          ]
        },
        {
          "name": "stderr",
          "output_type": "stream",
          "text": [
            "<ipython-input-36-9f96124e1a54>:276: UserWarning: To copy construct from a tensor, it is recommended to use sourceTensor.clone().detach() or sourceTensor.clone().detach().requires_grad_(True), rather than torch.tensor(sourceTensor).\n",
            "  exact_pts = calculate_exact_1d(model, torch.tensor(endpt1, dtype=torch.float64), torch.tensor(endpt2, dtype=torch.float64))\n"
          ]
        },
        {
          "name": "stdout",
          "output_type": "stream",
          "text": [
            "torch.Size([2, 1])\n",
            "torch.Size([2, 1])\n",
            "torch.Size([2, 1])\n",
            "torch.Size([3, 1])\n",
            "torch.Size([2, 1])\n",
            "torch.Size([2, 1])\n",
            "torch.Size([2, 1])\n",
            "torch.Size([2, 1])\n",
            "torch.Size([2, 1])\n",
            "torch.Size([2, 1])\n",
            "torch.Size([2, 1])\n",
            "torch.Size([2, 1])\n",
            "torch.Size([2, 1])\n",
            "torch.Size([2, 1])\n",
            "torch.Size([2, 1])\n",
            "torch.Size([2, 1])\n",
            "torch.Size([2, 1])\n",
            "torch.Size([2, 1])\n",
            "torch.Size([3, 1])\n",
            "torch.Size([2, 1])\n",
            "torch.Size([2, 1])\n",
            "torch.Size([2, 1])\n",
            "torch.Size([2, 1])\n",
            "torch.Size([2, 1])\n",
            "torch.Size([2, 1])\n",
            "torch.Size([2, 1])\n",
            "torch.Size([2, 1])\n",
            "torch.Size([2, 1])\n",
            "torch.Size([2, 1])\n",
            "torch.Size([2, 1])\n",
            "torch.Size([2, 1])\n",
            "torch.Size([2, 1])\n",
            "torch.Size([2, 1])\n",
            "Exceeded maximum number of samples\n",
            "torch.Size([3, 1])\n",
            "torch.Size([2, 1])\n",
            "torch.Size([2, 1])\n",
            "torch.Size([2, 1])\n",
            "torch.Size([2, 1])\n",
            "torch.Size([2, 1])\n",
            "torch.Size([2, 1])\n",
            "torch.Size([2, 1])\n",
            "torch.Size([2, 1])\n",
            "torch.Size([2, 1])\n",
            "torch.Size([2, 1])\n",
            "torch.Size([2, 1])\n",
            "torch.Size([2, 1])\n",
            "torch.Size([2, 1])\n",
            "torch.Size([2, 1])\n",
            "torch.Size([3, 1])\n",
            "torch.Size([2, 1])\n",
            "torch.Size([2, 1])\n",
            "torch.Size([2, 1])\n",
            "torch.Size([2, 1])\n",
            "torch.Size([2, 1])\n",
            "torch.Size([2, 1])\n",
            "torch.Size([2, 1])\n",
            "torch.Size([2, 1])\n",
            "torch.Size([2, 1])\n",
            "torch.Size([2, 1])\n",
            "torch.Size([2, 1])\n",
            "torch.Size([2, 1])\n",
            "torch.Size([2, 1])\n",
            "torch.Size([2, 1])\n",
            "torch.Size([3, 1])\n",
            "torch.Size([2, 1])\n",
            "torch.Size([2, 1])\n",
            "torch.Size([2, 1])\n",
            "torch.Size([2, 1])\n",
            "torch.Size([2, 1])\n",
            "torch.Size([2, 1])\n",
            "torch.Size([2, 1])\n",
            "torch.Size([2, 1])\n",
            "torch.Size([2, 1])\n",
            "torch.Size([2, 1])\n",
            "torch.Size([2, 1])\n",
            "torch.Size([2, 1])\n",
            "torch.Size([2, 1])\n",
            "torch.Size([2, 1])\n",
            "torch.Size([3, 1])\n",
            "torch.Size([2, 1])\n",
            "torch.Size([2, 1])\n",
            "torch.Size([2, 1])\n",
            "torch.Size([2, 1])\n",
            "torch.Size([2, 1])\n",
            "torch.Size([2, 1])\n",
            "torch.Size([2, 1])\n",
            "torch.Size([2, 1])\n",
            "torch.Size([2, 1])\n",
            "torch.Size([2, 1])\n",
            "torch.Size([2, 1])\n",
            "torch.Size([2, 1])\n",
            "torch.Size([2, 1])\n",
            "torch.Size([2, 1])\n",
            "torch.Size([3, 1])\n",
            "torch.Size([2, 1])\n",
            "torch.Size([2, 1])\n",
            "torch.Size([2, 1])\n",
            "torch.Size([2, 1])\n",
            "torch.Size([2, 1])\n",
            "torch.Size([2, 1])\n",
            "torch.Size([2, 1])\n",
            "torch.Size([2, 1])\n",
            "torch.Size([2, 1])\n",
            "torch.Size([2, 1])\n",
            "torch.Size([2, 1])\n",
            "torch.Size([2, 1])\n",
            "torch.Size([2, 1])\n",
            "torch.Size([2, 1])\n",
            "torch.Size([3, 1])\n",
            "torch.Size([2, 1])\n",
            "torch.Size([2, 1])\n",
            "torch.Size([2, 1])\n",
            "torch.Size([2, 1])\n",
            "torch.Size([2, 1])\n",
            "torch.Size([2, 1])\n",
            "torch.Size([2, 1])\n",
            "torch.Size([2, 1])\n",
            "torch.Size([2, 1])\n",
            "torch.Size([2, 1])\n",
            "torch.Size([2, 1])\n",
            "torch.Size([2, 1])\n",
            "torch.Size([2, 1])\n",
            "torch.Size([2, 1])\n",
            "torch.Size([3, 1])\n",
            "torch.Size([2, 1])\n",
            "torch.Size([2, 1])\n",
            "torch.Size([2, 1])\n",
            "torch.Size([2, 1])\n",
            "torch.Size([2, 1])\n",
            "torch.Size([2, 1])\n",
            "torch.Size([2, 1])\n",
            "torch.Size([2, 1])\n",
            "torch.Size([2, 1])\n",
            "torch.Size([2, 1])\n",
            "torch.Size([2, 1])\n",
            "torch.Size([2, 1])\n",
            "torch.Size([2, 1])\n",
            "torch.Size([2, 1])\n",
            "torch.Size([3, 1])\n",
            "torch.Size([2, 1])\n",
            "torch.Size([2, 1])\n",
            "torch.Size([2, 1])\n",
            "torch.Size([2, 1])\n",
            "torch.Size([2, 1])\n",
            "torch.Size([2, 1])\n",
            "torch.Size([2, 1])\n",
            "torch.Size([2, 1])\n",
            "torch.Size([2, 1])\n",
            "torch.Size([2, 1])\n",
            "torch.Size([2, 1])\n",
            "torch.Size([2, 1])\n",
            "torch.Size([2, 1])\n",
            "torch.Size([2, 1])\n",
            "torch.Size([3, 1])\n",
            "torch.Size([2, 1])\n",
            "torch.Size([2, 1])\n",
            "torch.Size([2, 1])\n",
            "torch.Size([2, 1])\n",
            "torch.Size([2, 1])\n",
            "torch.Size([2, 1])\n",
            "torch.Size([2, 1])\n",
            "torch.Size([2, 1])\n",
            "torch.Size([2, 1])\n",
            "torch.Size([2, 1])\n",
            "torch.Size([2, 1])\n",
            "torch.Size([2, 1])\n",
            "torch.Size([2, 1])\n",
            "torch.Size([2, 1])\n",
            "torch.Size([3, 1])\n",
            "torch.Size([2, 1])\n",
            "torch.Size([2, 1])\n",
            "torch.Size([2, 1])\n",
            "torch.Size([2, 1])\n",
            "torch.Size([2, 1])\n",
            "torch.Size([2, 1])\n",
            "torch.Size([2, 1])\n",
            "torch.Size([2, 1])\n",
            "torch.Size([2, 1])\n",
            "torch.Size([2, 1])\n",
            "torch.Size([2, 1])\n",
            "torch.Size([2, 1])\n",
            "torch.Size([2, 1])\n",
            "torch.Size([2, 1])\n",
            "torch.Size([3, 1])\n",
            "torch.Size([2, 1])\n",
            "torch.Size([2, 1])\n",
            "torch.Size([2, 1])\n",
            "torch.Size([2, 1])\n",
            "torch.Size([2, 1])\n",
            "torch.Size([2, 1])\n",
            "torch.Size([2, 1])\n",
            "torch.Size([2, 1])\n",
            "torch.Size([2, 1])\n",
            "torch.Size([2, 1])\n",
            "torch.Size([2, 1])\n",
            "torch.Size([2, 1])\n",
            "torch.Size([2, 1])\n",
            "torch.Size([2, 1])\n",
            "Exceeded maximum number of samples\n",
            "......LAYER 1 COMPLETE......\n",
            "Approx num neurons in layer 1: 0, Time (seconds): 0.5\n",
            "Sample points for layer 1: 713\n",
            "0\n",
            "[]\n"
          ]
        },
        {
          "ename": "KeyboardInterrupt",
          "evalue": "ignored",
          "output_type": "error",
          "traceback": [
            "\u001b[0;31m---------------------------------------------------------------------------\u001b[0m",
            "\u001b[0;31mKeyboardInterrupt\u001b[0m                         Traceback (most recent call last)",
            "\u001b[0;32m<ipython-input-38-b9db08756c54>\u001b[0m in \u001b[0;36m<cell line: 1>\u001b[0;34m()\u001b[0m\n\u001b[0;32m----> 1\u001b[0;31m \u001b[0mapprox_weight1\u001b[0m\u001b[0;34m,\u001b[0m \u001b[0mapprox_bias1\u001b[0m\u001b[0;34m,\u001b[0m \u001b[0munused\u001b[0m \u001b[0;34m=\u001b[0m \u001b[0malgorithm\u001b[0m\u001b[0;34m(\u001b[0m\u001b[0msimple_network\u001b[0m\u001b[0;34m)\u001b[0m\u001b[0;34m\u001b[0m\u001b[0;34m\u001b[0m\u001b[0m\n\u001b[0m",
            "\u001b[0;32m<ipython-input-37-4046c95a6a9f>\u001b[0m in \u001b[0;36malgorithm\u001b[0;34m(model)\u001b[0m\n\u001b[1;32m      2\u001b[0m \u001b[0;32mdef\u001b[0m \u001b[0malgorithm\u001b[0m\u001b[0;34m(\u001b[0m\u001b[0mmodel\u001b[0m\u001b[0;34m)\u001b[0m\u001b[0;34m:\u001b[0m\u001b[0;34m\u001b[0m\u001b[0;34m\u001b[0m\u001b[0m\n\u001b[1;32m      3\u001b[0m \u001b[0;34m\u001b[0m\u001b[0m\n\u001b[0;32m----> 4\u001b[0;31m   \u001b[0mapprox_weight1\u001b[0m\u001b[0;34m,\u001b[0m \u001b[0mapprox_bias1\u001b[0m\u001b[0;34m,\u001b[0m \u001b[0munused\u001b[0m \u001b[0;34m=\u001b[0m \u001b[0mfirst_layer_estimate\u001b[0m\u001b[0;34m(\u001b[0m\u001b[0mmodel\u001b[0m\u001b[0;34m)\u001b[0m\u001b[0;34m\u001b[0m\u001b[0;34m\u001b[0m\u001b[0m\n\u001b[0m\u001b[1;32m      5\u001b[0m \u001b[0;34m\u001b[0m\u001b[0m\n\u001b[1;32m      6\u001b[0m   \u001b[0;32mreturn\u001b[0m \u001b[0mapprox_weight1\u001b[0m\u001b[0;34m,\u001b[0m \u001b[0mapprox_bias1\u001b[0m\u001b[0;34m,\u001b[0m \u001b[0munused\u001b[0m\u001b[0;34m\u001b[0m\u001b[0;34m\u001b[0m\u001b[0m\n",
            "\u001b[0;32m<ipython-input-36-9f96124e1a54>\u001b[0m in \u001b[0;36mfirst_layer_estimate\u001b[0;34m(model, approx_num1, approx_weight1, approx_bias1, unused)\u001b[0m\n\u001b[1;32m    348\u001b[0m   \u001b[0mprint\u001b[0m\u001b[0;34m(\u001b[0m\u001b[0mlen\u001b[0m\u001b[0;34m(\u001b[0m\u001b[0mapprox_bias1\u001b[0m\u001b[0;34m)\u001b[0m\u001b[0;34m)\u001b[0m\u001b[0;34m\u001b[0m\u001b[0;34m\u001b[0m\u001b[0m\n\u001b[1;32m    349\u001b[0m   \u001b[0mprint\u001b[0m\u001b[0;34m(\u001b[0m\u001b[0mapprox_weight1\u001b[0m\u001b[0;34m)\u001b[0m\u001b[0;34m\u001b[0m\u001b[0;34m\u001b[0m\u001b[0m\n\u001b[0;32m--> 350\u001b[0;31m   \u001b[0minput\u001b[0m\u001b[0;34m(\u001b[0m\u001b[0;34m)\u001b[0m\u001b[0;34m\u001b[0m\u001b[0;34m\u001b[0m\u001b[0m\n\u001b[0m\u001b[1;32m    351\u001b[0m   \u001b[0;32mreturn\u001b[0m \u001b[0mtorch\u001b[0m\u001b[0;34m.\u001b[0m\u001b[0mstack\u001b[0m\u001b[0;34m(\u001b[0m\u001b[0mapprox_weight1\u001b[0m\u001b[0;34m)\u001b[0m\u001b[0;34m,\u001b[0m \u001b[0mtorch\u001b[0m\u001b[0;34m.\u001b[0m\u001b[0mstack\u001b[0m\u001b[0;34m(\u001b[0m\u001b[0mapprox_bias1\u001b[0m\u001b[0;34m)\u001b[0m\u001b[0;34m,\u001b[0m \u001b[0munused\u001b[0m\u001b[0;34m\u001b[0m\u001b[0;34m\u001b[0m\u001b[0m\n\u001b[1;32m    352\u001b[0m \u001b[0;34m\u001b[0m\u001b[0m\n",
            "\u001b[0;32m/usr/local/lib/python3.9/dist-packages/ipykernel/kernelbase.py\u001b[0m in \u001b[0;36mraw_input\u001b[0;34m(self, prompt)\u001b[0m\n\u001b[1;32m    849\u001b[0m                 \u001b[0;34m\"raw_input was called, but this frontend does not support input requests.\"\u001b[0m\u001b[0;34m\u001b[0m\u001b[0;34m\u001b[0m\u001b[0m\n\u001b[1;32m    850\u001b[0m             )\n\u001b[0;32m--> 851\u001b[0;31m         return self._input_request(str(prompt),\n\u001b[0m\u001b[1;32m    852\u001b[0m             \u001b[0mself\u001b[0m\u001b[0;34m.\u001b[0m\u001b[0m_parent_ident\u001b[0m\u001b[0;34m,\u001b[0m\u001b[0;34m\u001b[0m\u001b[0;34m\u001b[0m\u001b[0m\n\u001b[1;32m    853\u001b[0m             \u001b[0mself\u001b[0m\u001b[0;34m.\u001b[0m\u001b[0m_parent_header\u001b[0m\u001b[0;34m,\u001b[0m\u001b[0;34m\u001b[0m\u001b[0;34m\u001b[0m\u001b[0m\n",
            "\u001b[0;32m/usr/local/lib/python3.9/dist-packages/ipykernel/kernelbase.py\u001b[0m in \u001b[0;36m_input_request\u001b[0;34m(self, prompt, ident, parent, password)\u001b[0m\n\u001b[1;32m    893\u001b[0m             \u001b[0;32mexcept\u001b[0m \u001b[0mKeyboardInterrupt\u001b[0m\u001b[0;34m:\u001b[0m\u001b[0;34m\u001b[0m\u001b[0;34m\u001b[0m\u001b[0m\n\u001b[1;32m    894\u001b[0m                 \u001b[0;31m# re-raise KeyboardInterrupt, to truncate traceback\u001b[0m\u001b[0;34m\u001b[0m\u001b[0;34m\u001b[0m\u001b[0m\n\u001b[0;32m--> 895\u001b[0;31m                 \u001b[0;32mraise\u001b[0m \u001b[0mKeyboardInterrupt\u001b[0m\u001b[0;34m(\u001b[0m\u001b[0;34m\"Interrupted by user\"\u001b[0m\u001b[0;34m)\u001b[0m \u001b[0;32mfrom\u001b[0m \u001b[0;32mNone\u001b[0m\u001b[0;34m\u001b[0m\u001b[0;34m\u001b[0m\u001b[0m\n\u001b[0m\u001b[1;32m    896\u001b[0m             \u001b[0;32mexcept\u001b[0m \u001b[0mException\u001b[0m \u001b[0;32mas\u001b[0m \u001b[0me\u001b[0m\u001b[0;34m:\u001b[0m\u001b[0;34m\u001b[0m\u001b[0;34m\u001b[0m\u001b[0m\n\u001b[1;32m    897\u001b[0m                 \u001b[0mself\u001b[0m\u001b[0;34m.\u001b[0m\u001b[0mlog\u001b[0m\u001b[0;34m.\u001b[0m\u001b[0mwarning\u001b[0m\u001b[0;34m(\u001b[0m\u001b[0;34m\"Invalid Message:\"\u001b[0m\u001b[0;34m,\u001b[0m \u001b[0mexc_info\u001b[0m\u001b[0;34m=\u001b[0m\u001b[0;32mTrue\u001b[0m\u001b[0;34m)\u001b[0m\u001b[0;34m\u001b[0m\u001b[0;34m\u001b[0m\u001b[0m\n",
            "\u001b[0;31mKeyboardInterrupt\u001b[0m: Interrupted by user"
          ]
        }
      ],
      "source": [
        "approx_weight1, approx_bias1, unused = algorithm(simple_network)"
      ]
    },
    {
      "cell_type": "code",
      "execution_count": null,
      "metadata": {
        "colab": {
          "base_uri": "https://localhost:8080/"
        },
        "id": "CiuRxMU6Go5s",
        "outputId": "c3a58d56-252c-4b54-fb68-7dc04749337e"
      },
      "outputs": [
        {
          "name": "stdout",
          "output_type": "stream",
          "text": [
            "(29, 10)\n"
          ]
        },
        {
          "data": {
            "text/plain": [
              "(20, 10)"
            ]
          },
          "execution_count": 26,
          "metadata": {},
          "output_type": "execute_result"
        }
      ],
      "source": [
        "w_l1_app = approx_weight1.detach().numpy()\n",
        "print(w_l1_app.shape)\n",
        "w, b = simple_network.get_all_parameters()\n",
        "w_l1 = w[0].T.detach().numpy()\n",
        "w_l1.shape"
      ]
    },
    {
      "cell_type": "code",
      "execution_count": null,
      "metadata": {
        "colab": {
          "base_uri": "https://localhost:8080/"
        },
        "id": "02oHatijFLic",
        "outputId": "fbbe0c7a-cd98-402f-8160-8bbbc257b7b7"
      },
      "outputs": [
        {
          "data": {
            "text/plain": [
              "array([[ 1.43958259,  0.64575374, -0.12086029],\n",
              "       [ 0.83231974,  0.87046283,  1.39203668],\n",
              "       [-0.17096873, -0.82034147, -0.62202758],\n",
              "       [ 1.32386386, -0.3209289 , -1.56270576],\n",
              "       [ 1.47150433, -0.61121678,  0.65818596],\n",
              "       [-0.10910814,  0.72371858,  0.48607174],\n",
              "       [-1.81109488, -0.85957408, -1.65789592],\n",
              "       [-1.19787097,  0.1176836 , -0.37374136],\n",
              "       [ 0.02439748,  0.69403589, -1.18352461],\n",
              "       [-0.58495247, -0.28607368,  1.19882524],\n",
              "       [ 1.60896719,  0.10695562, -0.59211767],\n",
              "       [ 1.42490768, -1.53968167, -0.65923518],\n",
              "       [-1.05772793, -0.60556436,  0.96648186],\n",
              "       [-0.07800793, -1.07947898, -0.93891197],\n",
              "       [-0.46877638, -0.68489498, -0.23284695],\n",
              "       [ 1.15463543, -1.076931  , -0.25429621],\n",
              "       [ 1.2629143 ,  0.19562383, -0.44666111],\n",
              "       [-0.75103927, -0.66522437,  0.66373372],\n",
              "       [ 0.73396128, -0.32128575, -1.3787396 ],\n",
              "       [ 0.38880575,  0.45127138, -1.02374458]])"
            ]
          },
          "execution_count": 77,
          "metadata": {},
          "output_type": "execute_result"
        }
      ],
      "source": [
        "w_l1"
      ]
    },
    {
      "cell_type": "code",
      "execution_count": null,
      "metadata": {
        "id": "OZVAJkY3DCWE"
      },
      "outputs": [],
      "source": [
        "# w_l1[:, 0] = w_l1[:, 0] / np.linalg.norm(w_l1[:, 0])\n",
        "# w_l1[:, 1] = w_l1[:, 1] / np.linalg.norm(w_l1[:, 1])\n",
        "w_l1 = w_l1[:, ] / np.array([np.linalg.norm(w_l1, axis=-1), np.linalg.norm(w_l1, axis=-1), np.linalg.norm(w_l1, axis=-1)]).T\n",
        "# w_l1[1, :] = w_l1[1, :] / np.linalg.norm(w_l1[1, :])"
      ]
    },
    {
      "cell_type": "code",
      "execution_count": null,
      "metadata": {
        "colab": {
          "base_uri": "https://localhost:8080/"
        },
        "id": "a7hd1AxtFMmZ",
        "outputId": "5a2cb5ea-84e7-4068-e8cd-a6bdd322a5cb"
      },
      "outputs": [
        {
          "data": {
            "text/plain": [
              "array([[ 0.9097439 ,  0.40808393, -0.07637763],\n",
              "       [ 0.45217224,  0.47289414,  0.75624824],\n",
              "       [-0.16382533, -0.78606606, -0.59603809],\n",
              "       [ 0.63859762, -0.15480778, -0.75380875],\n",
              "       [ 0.85354888, -0.35453745,  0.38178201],\n",
              "       [-0.12418402,  0.82371744,  0.55323405],\n",
              "       [-0.69618623, -0.33042092, -0.63729644],\n",
              "       [-0.95044376,  0.09337537, -0.29654291],\n",
              "       [ 0.01777946,  0.50577276, -0.86248351],\n",
              "       [-0.42877088, -0.20969236,  0.87874037],\n",
              "       [ 0.93664702,  0.06226333, -0.34469643],\n",
              "       [ 0.64798175, -0.70017562, -0.2997895 ],\n",
              "       [-0.67999175, -0.38930499,  0.62133151],\n",
              "       [-0.0544444 , -0.75340521, -0.6552987 ],\n",
              "       [-0.54382186, -0.79453847, -0.27012295],\n",
              "       [ 0.72198143, -0.67339367, -0.15900876],\n",
              "       [ 0.93287821,  0.14450166, -0.32993563],\n",
              "       [-0.62432322, -0.55298709,  0.55174795],\n",
              "       [ 0.46027043, -0.20147974, -0.86461381],\n",
              "       [ 0.32826468,  0.38100377, -0.86433699]])"
            ]
          },
          "execution_count": 79,
          "metadata": {},
          "output_type": "execute_result"
        }
      ],
      "source": [
        "w_l1"
      ]
    },
    {
      "cell_type": "code",
      "execution_count": null,
      "metadata": {
        "colab": {
          "base_uri": "https://localhost:8080/",
          "height": 283
        },
        "id": "V6R1LCfZc3XO",
        "outputId": "a6db70bc-2b3c-4e60-aee5-03b945780320"
      },
      "outputs": [
        {
          "data": {
            "text/plain": [
              "<matplotlib.collections.PathCollection at 0x7fe4b6daf2e0>"
            ]
          },
          "execution_count": 23,
          "metadata": {},
          "output_type": "execute_result"
        },
        {
          "data": {
            "image/png": "[encoded data removed]",
            "text/plain": [
              "<Figure size 432x288 with 1 Axes>"
            ]
          },
          "metadata": {
            "needs_background": "light"
          },
          "output_type": "display_data"
        }
      ],
      "source": [
        "plt.scatter([w_l1[:, 0], w_l1[:, 0], -1 * w_l1[:, 0], -1 * w_l1[:, 0]], [w_l1[:, 1], -1 * w_l1[:, 1], w_l1[:, 1], -1 * w_l1[:, 1]])\n",
        "# plt.scatter(, )\n",
        "# plt.scatter(, )\n",
        "# plt.scatter(-1 * w_l1[:, 0], )\n",
        "plt.scatter(w_l1_app[:, 0], w_l1_app[:, 1])"
      ]
    },
    {
      "cell_type": "code",
      "execution_count": null,
      "metadata": {
        "colab": {
          "base_uri": "https://localhost:8080/",
          "height": 1000
        },
        "id": "yoeUnBfAdYDa",
        "outputId": "c0eef6f6-19de-4ba5-d70c-7373478cab50"
      },
      "outputs": [
        {
          "name": "stdout",
          "output_type": "stream",
          "text": [
            "           0         1         2 approx\n",
            "0  -0.354126  0.892353 -0.279823      T\n",
            "1   0.331203  0.075037 -0.940571      T\n",
            "2  -0.041518 -0.107463 -0.993342      T\n",
            "3  -0.283567 -0.766148 -0.576720      T\n",
            "4  -0.008115  0.127542 -0.991800      T\n",
            "5  -0.034652  0.153135 -0.987598      T\n",
            "6   0.002500  0.108993 -0.994039      T\n",
            "7  -0.053155  0.000433 -0.998586      T\n",
            "8  -0.085909  0.030973 -0.995821      T\n",
            "9   0.020905  0.868135 -0.495888      T\n",
            "0   0.909744  0.408084 -0.076378      F\n",
            "1   0.452172  0.472894  0.756248      F\n",
            "2  -0.163825 -0.786066 -0.596038      F\n",
            "3   0.638598 -0.154808 -0.753809      F\n",
            "4   0.853549 -0.354537  0.381782      F\n",
            "5  -0.124184  0.823717  0.553234      F\n",
            "6  -0.696186 -0.330421 -0.637296      F\n",
            "7  -0.950444  0.093375 -0.296543      F\n",
            "8   0.017779  0.505773 -0.862484      F\n",
            "9  -0.428771 -0.209692  0.878740      F\n",
            "10  0.936647  0.062263 -0.344696      F\n",
            "11  0.647982 -0.700176 -0.299790      F\n",
            "12 -0.679992 -0.389305  0.621332      F\n",
            "13 -0.054444 -0.753405 -0.655299      F\n",
            "14 -0.543822 -0.794538 -0.270123      F\n",
            "15  0.721981 -0.673394 -0.159009      F\n",
            "16  0.932878  0.144502 -0.329936      F\n",
            "17 -0.624323 -0.552987  0.551748      F\n",
            "18  0.460270 -0.201480 -0.864614      F\n",
            "19  0.328265  0.381004 -0.864337      F\n"
          ]
        },
        {
          "data": {
            "text/html": [
              "<html>\n",
              "<head><meta charset=\"utf-8\" /></head>\n",
              "<body>\n",
              "    <div>            <script src=\"https://cdnjs.cloudflare.com/ajax/libs/mathjax/2.7.5/MathJax.js?config=TeX-AMS-MML_SVG\"></script><script type=\"text/javascript\">if (window.MathJax) {MathJax.Hub.Config({SVG: {font: \"STIX-Web\"}});}</script>                <script type=\"text/javascript\">window.PlotlyConfig = {MathJaxConfig: 'local'};</script>\n",
              "        <script src=\"https://cdn.plot.ly/plotly-2.8.3.min.js\"></script>                <div id=\"5907a157-66de-4c56-9389-21c72ac06ac9\" class=\"plotly-graph-div\" style=\"height:525px; width:100%;\"></div>            <script type=\"text/javascript\">                                    window.PLOTLYENV=window.PLOTLYENV || {};                                    if (document.getElementById(\"5907a157-66de-4c56-9389-21c72ac06ac9\")) {                    Plotly.newPlot(                        \"5907a157-66de-4c56-9389-21c72ac06ac9\",                        [{\"hovertemplate\":\"approx=T<br>0=%{x}<br>1=%{y}<br>2=%{z}<extra></extra>\",\"legendgroup\":\"T\",\"marker\":{\"color\":\"#636efa\",\"symbol\":\"circle\"},\"mode\":\"markers\",\"name\":\"T\",\"scene\":\"scene\",\"showlegend\":true,\"x\":[-0.3541257681706991,0.3312027353190484,-0.04151783437599662,-0.2835671447031646,-0.008115135289593423,-0.034651509885269556,0.002499959045000928,-0.05315453822955859,-0.08590862033854024,0.020904984555602905],\"y\":[0.8923529560875376,0.07503659001633549,-0.10746331254639095,-0.7661484436328012,0.12754187901107572,0.15313509008191237,0.10899307706004092,0.0004327729579051591,0.030972610534197576,0.8681347739719615],\"z\":[-0.2798234123145264,-0.9405712404044154,-0.99334178704275,-0.5767202413336393,-0.9917999867299634,-0.9875975481177927,-0.9940393650946411,-0.9985862044776953,-0.9958214731307141,-0.4958880880212602],\"type\":\"scatter3d\"},{\"hovertemplate\":\"approx=F<br>0=%{x}<br>1=%{y}<br>2=%{z}<extra></extra>\",\"legendgroup\":\"F\",\"marker\":{\"color\":\"#EF553B\",\"symbol\":\"circle\"},\"mode\":\"markers\",\"name\":\"F\",\"scene\":\"scene\",\"showlegend\":true,\"x\":[0.9097438979949347,0.4521722357873411,-0.16382533159523183,0.6385976150802104,0.8535488780351352,-0.12418401504341774,-0.6961862303879827,-0.9504437615057201,0.017779455953375375,-0.42877088170835564,0.936647023152209,0.6479817511944888,-0.6799917486102254,-0.054444395452881704,-0.5438218606605008,0.7219814308705274,0.9328782094185427,-0.6243232173349634,0.4602704284853951,0.32826467951808147],\"y\":[0.4080839344113346,0.47289414025120075,-0.7860660596782761,-0.15480778397811323,-0.35453745459765107,0.8237174363578667,-0.3304209209190482,0.093375366242505,0.5057727607222058,-0.20969236227985882,0.06226333378901115,-0.7001756238382206,-0.38930499272147884,-0.753405213479957,-0.7945384657938787,-0.6733936655386557,0.14450165638200582,-0.5529870933398362,-0.20147974430625587,0.38100377293419724],\"z\":[-0.0763776311255286,0.75624824052632,-0.5960380948811757,-0.7538087529563803,0.38178201384085714,0.5532340512366535,-0.6372964362344881,-0.2965429095323913,-0.8624835102524803,0.8787403736033367,-0.3446964335260566,-0.29978950265424975,0.6213315093121685,-0.6552987044890222,-0.27012295393331603,-0.1590087566474215,-0.3299356265923858,0.5517479450764445,-0.8646138128067099,-0.8643369858977445],\"type\":\"scatter3d\"}],                        {\"template\":{\"data\":{\"bar\":[{\"error_x\":{\"color\":\"#2a3f5f\"},\"error_y\":{\"color\":\"#2a3f5f\"},\"marker\":{\"line\":{\"color\":\"#E5ECF6\",\"width\":0.5},\"pattern\":{\"fillmode\":\"overlay\",\"size\":10,\"solidity\":0.2}},\"type\":\"bar\"}],\"barpolar\":[{\"marker\":{\"line\":{\"color\":\"#E5ECF6\",\"width\":0.5},\"pattern\":{\"fillmode\":\"overlay\",\"size\":10,\"solidity\":0.2}},\"type\":\"barpolar\"}],\"carpet\":[{\"aaxis\":{\"endlinecolor\":\"#2a3f5f\",\"gridcolor\":\"white\",\"linecolor\":\"white\",\"minorgridcolor\":\"white\",\"startlinecolor\":\"#2a3f5f\"},\"baxis\":{\"endlinecolor\":\"#2a3f5f\",\"gridcolor\":\"white\",\"linecolor\":\"white\",\"minorgridcolor\":\"white\",\"startlinecolor\":\"#2a3f5f\"},\"type\":\"carpet\"}],\"choropleth\":[{\"colorbar\":{\"outlinewidth\":0,\"ticks\":\"\"},\"type\":\"choropleth\"}],\"contour\":[{\"colorbar\":{\"outlinewidth\":0,\"ticks\":\"\"},\"colorscale\":[[0.0,\"#0d0887\"],[0.1111111111111111,\"#46039f\"],[0.2222222222222222,\"#7201a8\"],[0.3333333333333333,\"#9c179e\"],[0.4444444444444444,\"#bd3786\"],[0.5555555555555556,\"#d8576b\"],[0.6666666666666666,\"#ed7953\"],[0.7777777777777778,\"#fb9f3a\"],[0.8888888888888888,\"#fdca26\"],[1.0,\"#f0f921\"]],\"type\":\"contour\"}],\"contourcarpet\":[{\"colorbar\":{\"outlinewidth\":0,\"ticks\":\"\"},\"type\":\"contourcarpet\"}],\"heatmap\":[{\"colorbar\":{\"outlinewidth\":0,\"ticks\":\"\"},\"colorscale\":[[0.0,\"#0d0887\"],[0.1111111111111111,\"#46039f\"],[0.2222222222222222,\"#7201a8\"],[0.3333333333333333,\"#9c179e\"],[0.4444444444444444,\"#bd3786\"],[0.5555555555555556,\"#d8576b\"],[0.6666666666666666,\"#ed7953\"],[0.7777777777777778,\"#fb9f3a\"],[0.8888888888888888,\"#fdca26\"],[1.0,\"#f0f921\"]],\"type\":\"heatmap\"}],\"heatmapgl\":[{\"colorbar\":{\"outlinewidth\":0,\"ticks\":\"\"},\"colorscale\":[[0.0,\"#0d0887\"],[0.1111111111111111,\"#46039f\"],[0.2222222222222222,\"#7201a8\"],[0.3333333333333333,\"#9c179e\"],[0.4444444444444444,\"#bd3786\"],[0.5555555555555556,\"#d8576b\"],[0.6666666666666666,\"#ed7953\"],[0.7777777777777778,\"#fb9f3a\"],[0.8888888888888888,\"#fdca26\"],[1.0,\"#f0f921\"]],\"type\":\"heatmapgl\"}],\"histogram\":[{\"marker\":{\"pattern\":{\"fillmode\":\"overlay\",\"size\":10,\"solidity\":0.2}},\"type\":\"histogram\"}],\"histogram2d\":[{\"colorbar\":{\"outlinewidth\":0,\"ticks\":\"\"},\"colorscale\":[[0.0,\"#0d0887\"],[0.1111111111111111,\"#46039f\"],[0.2222222222222222,\"#7201a8\"],[0.3333333333333333,\"#9c179e\"],[0.4444444444444444,\"#bd3786\"],[0.5555555555555556,\"#d8576b\"],[0.6666666666666666,\"#ed7953\"],[0.7777777777777778,\"#fb9f3a\"],[0.8888888888888888,\"#fdca26\"],[1.0,\"#f0f921\"]],\"type\":\"histogram2d\"}],\"histogram2dcontour\":[{\"colorbar\":{\"outlinewidth\":0,\"ticks\":\"\"},\"colorscale\":[[0.0,\"#0d0887\"],[0.1111111111111111,\"#46039f\"],[0.2222222222222222,\"#7201a8\"],[0.3333333333333333,\"#9c179e\"],[0.4444444444444444,\"#bd3786\"],[0.5555555555555556,\"#d8576b\"],[0.6666666666666666,\"#ed7953\"],[0.7777777777777778,\"#fb9f3a\"],[0.8888888888888888,\"#fdca26\"],[1.0,\"#f0f921\"]],\"type\":\"histogram2dcontour\"}],\"mesh3d\":[{\"colorbar\":{\"outlinewidth\":0,\"ticks\":\"\"},\"type\":\"mesh3d\"}],\"parcoords\":[{\"line\":{\"colorbar\":{\"outlinewidth\":0,\"ticks\":\"\"}},\"type\":\"parcoords\"}],\"pie\":[{\"automargin\":true,\"type\":\"pie\"}],\"scatter\":[{\"marker\":{\"colorbar\":{\"outlinewidth\":0,\"ticks\":\"\"}},\"type\":\"scatter\"}],\"scatter3d\":[{\"line\":{\"colorbar\":{\"outlinewidth\":0,\"ticks\":\"\"}},\"marker\":{\"colorbar\":{\"outlinewidth\":0,\"ticks\":\"\"}},\"type\":\"scatter3d\"}],\"scattercarpet\":[{\"marker\":{\"colorbar\":{\"outlinewidth\":0,\"ticks\":\"\"}},\"type\":\"scattercarpet\"}],\"scattergeo\":[{\"marker\":{\"colorbar\":{\"outlinewidth\":0,\"ticks\":\"\"}},\"type\":\"scattergeo\"}],\"scattergl\":[{\"marker\":{\"colorbar\":{\"outlinewidth\":0,\"ticks\":\"\"}},\"type\":\"scattergl\"}],\"scattermapbox\":[{\"marker\":{\"colorbar\":{\"outlinewidth\":0,\"ticks\":\"\"}},\"type\":\"scattermapbox\"}],\"scatterpolar\":[{\"marker\":{\"colorbar\":{\"outlinewidth\":0,\"ticks\":\"\"}},\"type\":\"scatterpolar\"}],\"scatterpolargl\":[{\"marker\":{\"colorbar\":{\"outlinewidth\":0,\"ticks\":\"\"}},\"type\":\"scatterpolargl\"}],\"scatterternary\":[{\"marker\":{\"colorbar\":{\"outlinewidth\":0,\"ticks\":\"\"}},\"type\":\"scatterternary\"}],\"surface\":[{\"colorbar\":{\"outlinewidth\":0,\"ticks\":\"\"},\"colorscale\":[[0.0,\"#0d0887\"],[0.1111111111111111,\"#46039f\"],[0.2222222222222222,\"#7201a8\"],[0.3333333333333333,\"#9c179e\"],[0.4444444444444444,\"#bd3786\"],[0.5555555555555556,\"#d8576b\"],[0.6666666666666666,\"#ed7953\"],[0.7777777777777778,\"#fb9f3a\"],[0.8888888888888888,\"#fdca26\"],[1.0,\"#f0f921\"]],\"type\":\"surface\"}],\"table\":[{\"cells\":{\"fill\":{\"color\":\"#EBF0F8\"},\"line\":{\"color\":\"white\"}},\"header\":{\"fill\":{\"color\":\"#C8D4E3\"},\"line\":{\"color\":\"white\"}},\"type\":\"table\"}]},\"layout\":{\"annotationdefaults\":{\"arrowcolor\":\"#2a3f5f\",\"arrowhead\":0,\"arrowwidth\":1},\"autotypenumbers\":\"strict\",\"coloraxis\":{\"colorbar\":{\"outlinewidth\":0,\"ticks\":\"\"}},\"colorscale\":{\"diverging\":[[0,\"#8e0152\"],[0.1,\"#c51b7d\"],[0.2,\"#de77ae\"],[0.3,\"#f1b6da\"],[0.4,\"#fde0ef\"],[0.5,\"#f7f7f7\"],[0.6,\"#e6f5d0\"],[0.7,\"#b8e186\"],[0.8,\"#7fbc41\"],[0.9,\"#4d9221\"],[1,\"#276419\"]],\"sequential\":[[0.0,\"#0d0887\"],[0.1111111111111111,\"#46039f\"],[0.2222222222222222,\"#7201a8\"],[0.3333333333333333,\"#9c179e\"],[0.4444444444444444,\"#bd3786\"],[0.5555555555555556,\"#d8576b\"],[0.6666666666666666,\"#ed7953\"],[0.7777777777777778,\"#fb9f3a\"],[0.8888888888888888,\"#fdca26\"],[1.0,\"#f0f921\"]],\"sequentialminus\":[[0.0,\"#0d0887\"],[0.1111111111111111,\"#46039f\"],[0.2222222222222222,\"#7201a8\"],[0.3333333333333333,\"#9c179e\"],[0.4444444444444444,\"#bd3786\"],[0.5555555555555556,\"#d8576b\"],[0.6666666666666666,\"#ed7953\"],[0.7777777777777778,\"#fb9f3a\"],[0.8888888888888888,\"#fdca26\"],[1.0,\"#f0f921\"]]},\"colorway\":[\"#636efa\",\"#EF553B\",\"#00cc96\",\"#ab63fa\",\"#FFA15A\",\"#19d3f3\",\"#FF6692\",\"#B6E880\",\"#FF97FF\",\"#FECB52\"],\"font\":{\"color\":\"#2a3f5f\"},\"geo\":{\"bgcolor\":\"white\",\"lakecolor\":\"white\",\"landcolor\":\"#E5ECF6\",\"showlakes\":true,\"showland\":true,\"subunitcolor\":\"white\"},\"hoverlabel\":{\"align\":\"left\"},\"hovermode\":\"closest\",\"mapbox\":{\"style\":\"light\"},\"paper_bgcolor\":\"white\",\"plot_bgcolor\":\"#E5ECF6\",\"polar\":{\"angularaxis\":{\"gridcolor\":\"white\",\"linecolor\":\"white\",\"ticks\":\"\"},\"bgcolor\":\"#E5ECF6\",\"radialaxis\":{\"gridcolor\":\"white\",\"linecolor\":\"white\",\"ticks\":\"\"}},\"scene\":{\"xaxis\":{\"backgroundcolor\":\"#E5ECF6\",\"gridcolor\":\"white\",\"gridwidth\":2,\"linecolor\":\"white\",\"showbackground\":true,\"ticks\":\"\",\"zerolinecolor\":\"white\"},\"yaxis\":{\"backgroundcolor\":\"#E5ECF6\",\"gridcolor\":\"white\",\"gridwidth\":2,\"linecolor\":\"white\",\"showbackground\":true,\"ticks\":\"\",\"zerolinecolor\":\"white\"},\"zaxis\":{\"backgroundcolor\":\"#E5ECF6\",\"gridcolor\":\"white\",\"gridwidth\":2,\"linecolor\":\"white\",\"showbackground\":true,\"ticks\":\"\",\"zerolinecolor\":\"white\"}},\"shapedefaults\":{\"line\":{\"color\":\"#2a3f5f\"}},\"ternary\":{\"aaxis\":{\"gridcolor\":\"white\",\"linecolor\":\"white\",\"ticks\":\"\"},\"baxis\":{\"gridcolor\":\"white\",\"linecolor\":\"white\",\"ticks\":\"\"},\"bgcolor\":\"#E5ECF6\",\"caxis\":{\"gridcolor\":\"white\",\"linecolor\":\"white\",\"ticks\":\"\"}},\"title\":{\"x\":0.05},\"xaxis\":{\"automargin\":true,\"gridcolor\":\"white\",\"linecolor\":\"white\",\"ticks\":\"\",\"title\":{\"standoff\":15},\"zerolinecolor\":\"white\",\"zerolinewidth\":2},\"yaxis\":{\"automargin\":true,\"gridcolor\":\"white\",\"linecolor\":\"white\",\"ticks\":\"\",\"title\":{\"standoff\":15},\"zerolinecolor\":\"white\",\"zerolinewidth\":2}}},\"scene\":{\"domain\":{\"x\":[0.0,1.0],\"y\":[0.0,1.0]},\"xaxis\":{\"title\":{\"text\":\"0\"}},\"yaxis\":{\"title\":{\"text\":\"1\"}},\"zaxis\":{\"title\":{\"text\":\"2\"}}},\"legend\":{\"title\":{\"text\":\"approx\"},\"tracegroupgap\":0},\"margin\":{\"t\":60}},                        {\"responsive\": true}                    ).then(function(){\n",
              "                            \n",
              "var gd = document.getElementById('5907a157-66de-4c56-9389-21c72ac06ac9');\n",
              "var x = new MutationObserver(function (mutations, observer) {{\n",
              "        var display = window.getComputedStyle(gd).display;\n",
              "        if (!display || display === 'none') {{\n",
              "            console.log([gd, 'removed!']);\n",
              "            Plotly.purge(gd);\n",
              "            observer.disconnect();\n",
              "        }}\n",
              "}});\n",
              "\n",
              "// Listen for the removal of the full notebook cells\n",
              "var notebookContainer = gd.closest('#notebook-container');\n",
              "if (notebookContainer) {{\n",
              "    x.observe(notebookContainer, {childList: true});\n",
              "}}\n",
              "\n",
              "// Listen for the clearing of the current output cell\n",
              "var outputEl = gd.closest('.output');\n",
              "if (outputEl) {{\n",
              "    x.observe(outputEl, {childList: true});\n",
              "}}\n",
              "\n",
              "                        })                };                            </script>        </div>\n",
              "</body>\n",
              "</html>"
            ]
          },
          "metadata": {},
          "output_type": "display_data"
        }
      ],
      "source": [
        "import plotly.express as px\n",
        "df = pd.DataFrame(w_l1_app)\n",
        "df['approx'] = 'T'\n",
        "df1 = pd.DataFrame(w_l1)\n",
        "df1['approx'] = 'F'\n",
        "df = pd.concat([df, df1])\n",
        "print(df)\n",
        "fig = px.scatter_3d(df, x=0, y=1, z=2, color='approx')\n",
        "fig.show()"
      ]
    },
    {
      "cell_type": "code",
      "execution_count": null,
      "metadata": {
        "id": "LZ8KJQJrhGZz"
      },
      "outputs": [],
      "source": []
    }
  ],
  "metadata": {
    "colab": {
      "authorship_tag": "ABX9TyOVlj3vGqhpSaWFtIZvaKSw",
      "include_colab_link": true,
      "provenance": [],
      "toc_visible": true
    },
    "kernelspec": {
      "display_name": "Python 3",
      "name": "python3"
    },
    "language_info": {
      "name": "python"
    }
  },
  "nbformat": 4,
  "nbformat_minor": 0
}
